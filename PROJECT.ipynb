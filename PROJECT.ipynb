{
 "cells": [
  {
   "cell_type": "markdown",
   "metadata": {},
   "source": [
    "# INTRO\n",
    "Starting from the The Movie DataBase (TMDB) sample datasets, read the file tmdb_5000_movies.csv and the file tmdb_5000_credits.csv and import pandas, numpy and ast libraries.\n",
    "(ast library helps to evaluate string into list)"
   ]
  },
  {
   "cell_type": "code",
   "execution_count": 1,
   "metadata": {
    "collapsed": true
   },
   "outputs": [],
   "source": [
    "#import libraries\n",
    "import pandas as pd\n",
    "import numpy as np\n",
    "import re \n",
    "import ast\n",
    "from datetime import datetime\n",
    "import os\n",
    "import collections"
   ]
  },
  {
   "cell_type": "code",
   "execution_count": 2,
   "metadata": {
    "collapsed": true
   },
   "outputs": [],
   "source": [
    "#read 2 csv, stored in the same folder of this code\n",
    "movies = pd.read_csv(os.getcwd()+'/tmdb_5000_movies.csv', parse_dates = [\"release_date\"])\n",
    "credits = pd.read_csv(os.getcwd()+'/tmdb_5000_credits.csv')"
   ]
  },
  {
   "cell_type": "markdown",
   "metadata": {},
   "source": [
    "## QUESTION 1\n",
    "For each movie, compute the number of cast members"
   ]
  },
  {
   "cell_type": "code",
   "execution_count": 3,
   "metadata": {},
   "outputs": [
    {
     "data": {
      "text/plain": [
       "movie_id\n",
       "5     [{\"cast_id\": 42, \"character\": \"Ted the Bellhop...\n",
       "11    [{\"cast_id\": 3, \"character\": \"Luke Skywalker\",...\n",
       "12    [{\"cast_id\": 8, \"character\": \"Marlin (voice)\",...\n",
       "13    [{\"cast_id\": 7, \"character\": \"Forrest Gump\", \"...\n",
       "14    [{\"cast_id\": 6, \"character\": \"Lester Burnham\",...\n",
       "Name: cast, dtype: object"
      ]
     },
     "execution_count": 3,
     "metadata": {},
     "output_type": "execute_result"
    }
   ],
   "source": [
    "#create a table of tuple, movie_id - array of cast members\n",
    "movie_cast = credits.groupby(['movie_id']).sum()['cast']\n",
    "movie_cast.head()"
   ]
  },
  {
   "cell_type": "code",
   "execution_count": 4,
   "metadata": {},
   "outputs": [
    {
     "data": {
      "text/html": [
       "<div>\n",
       "<style>\n",
       "    .dataframe thead tr:only-child th {\n",
       "        text-align: right;\n",
       "    }\n",
       "\n",
       "    .dataframe thead th {\n",
       "        text-align: left;\n",
       "    }\n",
       "\n",
       "    .dataframe tbody tr th {\n",
       "        vertical-align: top;\n",
       "    }\n",
       "</style>\n",
       "<table border=\"1\" class=\"dataframe\">\n",
       "  <thead>\n",
       "    <tr style=\"text-align: right;\">\n",
       "      <th></th>\n",
       "      <th>movie_id</th>\n",
       "      <th>title</th>\n",
       "      <th>cast</th>\n",
       "      <th>crew</th>\n",
       "      <th>cast_members</th>\n",
       "    </tr>\n",
       "  </thead>\n",
       "  <tbody>\n",
       "    <tr>\n",
       "      <th>0</th>\n",
       "      <td>19995</td>\n",
       "      <td>Avatar</td>\n",
       "      <td>[{\"cast_id\": 242, \"character\": \"Jake Sully\", \"...</td>\n",
       "      <td>[{\"credit_id\": \"52fe48009251416c750aca23\", \"de...</td>\n",
       "      <td>83</td>\n",
       "    </tr>\n",
       "    <tr>\n",
       "      <th>1</th>\n",
       "      <td>285</td>\n",
       "      <td>Pirates of the Caribbean: At World's End</td>\n",
       "      <td>[{\"cast_id\": 4, \"character\": \"Captain Jack Spa...</td>\n",
       "      <td>[{\"credit_id\": \"52fe4232c3a36847f800b579\", \"de...</td>\n",
       "      <td>34</td>\n",
       "    </tr>\n",
       "    <tr>\n",
       "      <th>2</th>\n",
       "      <td>206647</td>\n",
       "      <td>Spectre</td>\n",
       "      <td>[{\"cast_id\": 1, \"character\": \"James Bond\", \"cr...</td>\n",
       "      <td>[{\"credit_id\": \"54805967c3a36829b5002c41\", \"de...</td>\n",
       "      <td>83</td>\n",
       "    </tr>\n",
       "    <tr>\n",
       "      <th>3</th>\n",
       "      <td>49026</td>\n",
       "      <td>The Dark Knight Rises</td>\n",
       "      <td>[{\"cast_id\": 2, \"character\": \"Bruce Wayne / Ba...</td>\n",
       "      <td>[{\"credit_id\": \"52fe4781c3a36847f81398c3\", \"de...</td>\n",
       "      <td>158</td>\n",
       "    </tr>\n",
       "    <tr>\n",
       "      <th>4</th>\n",
       "      <td>49529</td>\n",
       "      <td>John Carter</td>\n",
       "      <td>[{\"cast_id\": 5, \"character\": \"John Carter\", \"c...</td>\n",
       "      <td>[{\"credit_id\": \"52fe479ac3a36847f813eaa3\", \"de...</td>\n",
       "      <td>27</td>\n",
       "    </tr>\n",
       "  </tbody>\n",
       "</table>\n",
       "</div>"
      ],
      "text/plain": [
       "   movie_id                                     title  \\\n",
       "0     19995                                    Avatar   \n",
       "1       285  Pirates of the Caribbean: At World's End   \n",
       "2    206647                                   Spectre   \n",
       "3     49026                     The Dark Knight Rises   \n",
       "4     49529                               John Carter   \n",
       "\n",
       "                                                cast  \\\n",
       "0  [{\"cast_id\": 242, \"character\": \"Jake Sully\", \"...   \n",
       "1  [{\"cast_id\": 4, \"character\": \"Captain Jack Spa...   \n",
       "2  [{\"cast_id\": 1, \"character\": \"James Bond\", \"cr...   \n",
       "3  [{\"cast_id\": 2, \"character\": \"Bruce Wayne / Ba...   \n",
       "4  [{\"cast_id\": 5, \"character\": \"John Carter\", \"c...   \n",
       "\n",
       "                                                crew  cast_members  \n",
       "0  [{\"credit_id\": \"52fe48009251416c750aca23\", \"de...            83  \n",
       "1  [{\"credit_id\": \"52fe4232c3a36847f800b579\", \"de...            34  \n",
       "2  [{\"credit_id\": \"54805967c3a36829b5002c41\", \"de...            83  \n",
       "3  [{\"credit_id\": \"52fe4781c3a36847f81398c3\", \"de...           158  \n",
       "4  [{\"credit_id\": \"52fe479ac3a36847f813eaa3\", \"de...            27  "
      ]
     },
     "execution_count": 4,
     "metadata": {},
     "output_type": "execute_result"
    }
   ],
   "source": [
    "#save in a dictionary the results\n",
    "conteggio = {}\n",
    "\n",
    "#cycle the table and extract the number of cast members, saving them in the dictionary\n",
    "for row in movie_cast.iteritems():\n",
    "    conteggio[row[0]] = len(ast.literal_eval(row[1]))\n",
    "\n",
    "#insert the results in the table credits\n",
    "credits['cast_members']= credits.apply(lambda row: conteggio[(row['movie_id'])], axis=1)\n",
    "credits.head()"
   ]
  },
  {
   "cell_type": "markdown",
   "metadata": {},
   "source": [
    "## QUESTION 2\n",
    "How many movies do not have a homepage?"
   ]
  },
  {
   "cell_type": "markdown",
   "metadata": {},
   "source": [
    "For this question, we use the movies database"
   ]
  },
  {
   "cell_type": "markdown",
   "metadata": {},
   "source": [
    "We extract the index of the rows that have a missing title.\n",
    "Then we use the fancy indexing."
   ]
  },
  {
   "cell_type": "code",
   "execution_count": 5,
   "metadata": {
    "collapsed": true
   },
   "outputs": [],
   "source": [
    "null_idx = movies['homepage'].isnull()"
   ]
  },
  {
   "cell_type": "code",
   "execution_count": 6,
   "metadata": {},
   "outputs": [
    {
     "data": {
      "text/plain": [
       "3091"
      ]
     },
     "execution_count": 6,
     "metadata": {},
     "output_type": "execute_result"
    }
   ],
   "source": [
    "len(movies[null_idx])"
   ]
  },
  {
   "cell_type": "markdown",
   "metadata": {},
   "source": [
    "## QUESTION 3\n",
    "For each year, how many movies do not have a homepage?"
   ]
  },
  {
   "cell_type": "code",
   "execution_count": 7,
   "metadata": {
    "collapsed": true
   },
   "outputs": [],
   "source": [
    "#create the column year\n",
    "movies['year'] = movies['release_date'].dt.year"
   ]
  },
  {
   "cell_type": "code",
   "execution_count": 8,
   "metadata": {},
   "outputs": [
    {
     "data": {
      "text/plain": [
       "year\n",
       "1916.0      1\n",
       "1925.0      1\n",
       "1927.0      1\n",
       "1929.0      2\n",
       "1930.0      1\n",
       "1932.0      1\n",
       "1933.0      2\n",
       "1934.0      1\n",
       "1935.0      1\n",
       "1936.0      2\n",
       "1937.0      1\n",
       "1938.0      2\n",
       "1939.0      2\n",
       "1940.0      4\n",
       "1941.0      1\n",
       "1942.0      1\n",
       "1944.0      2\n",
       "1945.0      4\n",
       "1946.0      3\n",
       "1947.0      3\n",
       "1948.0      3\n",
       "1949.0      2\n",
       "1950.0      1\n",
       "1951.0      3\n",
       "1952.0      4\n",
       "1953.0      4\n",
       "1954.0      4\n",
       "1955.0      2\n",
       "1956.0      3\n",
       "1957.0      2\n",
       "         ... \n",
       "1987.0     29\n",
       "1988.0     28\n",
       "1989.0     28\n",
       "1990.0     24\n",
       "1991.0     29\n",
       "1992.0     29\n",
       "1993.0     44\n",
       "1994.0     50\n",
       "1995.0     64\n",
       "1996.0     86\n",
       "1997.0    102\n",
       "1998.0    119\n",
       "1999.0    145\n",
       "2000.0    145\n",
       "2001.0    159\n",
       "2002.0    164\n",
       "2003.0    131\n",
       "2004.0    149\n",
       "2005.0    149\n",
       "2006.0    144\n",
       "2007.0     92\n",
       "2008.0     97\n",
       "2009.0     85\n",
       "2010.0     54\n",
       "2011.0     43\n",
       "2012.0     92\n",
       "2013.0    127\n",
       "2014.0    157\n",
       "2015.0    110\n",
       "2016.0     31\n",
       "Length: 89, dtype: int64"
      ]
     },
     "execution_count": 8,
     "metadata": {},
     "output_type": "execute_result"
    }
   ],
   "source": [
    "#use the null_idx created before\n",
    "movies_no_homepage = movies.apply(lambda x : x[null_idx])\n",
    "movies_no_homepage.groupby('year').size()"
   ]
  },
  {
   "cell_type": "markdown",
   "metadata": {},
   "source": [
    "## QUESTION 4\n",
    "Extract the domain of each homepage."
   ]
  },
  {
   "cell_type": "markdown",
   "metadata": {},
   "source": [
    "To do this task I use the regex expression and the notnull index; I create a new column in the table Movies called domain, in which I store the domain of the homepage"
   ]
  },
  {
   "cell_type": "code",
   "execution_count": 9,
   "metadata": {},
   "outputs": [
    {
     "data": {
      "text/html": [
       "<div>\n",
       "<style>\n",
       "    .dataframe thead tr:only-child th {\n",
       "        text-align: right;\n",
       "    }\n",
       "\n",
       "    .dataframe thead th {\n",
       "        text-align: left;\n",
       "    }\n",
       "\n",
       "    .dataframe tbody tr th {\n",
       "        vertical-align: top;\n",
       "    }\n",
       "</style>\n",
       "<table border=\"1\" class=\"dataframe\">\n",
       "  <thead>\n",
       "    <tr style=\"text-align: right;\">\n",
       "      <th></th>\n",
       "      <th>budget</th>\n",
       "      <th>genres</th>\n",
       "      <th>homepage</th>\n",
       "      <th>id</th>\n",
       "      <th>keywords</th>\n",
       "      <th>original_language</th>\n",
       "      <th>original_title</th>\n",
       "      <th>overview</th>\n",
       "      <th>popularity</th>\n",
       "      <th>production_companies</th>\n",
       "      <th>...</th>\n",
       "      <th>revenue</th>\n",
       "      <th>runtime</th>\n",
       "      <th>spoken_languages</th>\n",
       "      <th>status</th>\n",
       "      <th>tagline</th>\n",
       "      <th>title</th>\n",
       "      <th>vote_average</th>\n",
       "      <th>vote_count</th>\n",
       "      <th>year</th>\n",
       "      <th>domain</th>\n",
       "    </tr>\n",
       "  </thead>\n",
       "  <tbody>\n",
       "    <tr>\n",
       "      <th>0</th>\n",
       "      <td>237000000</td>\n",
       "      <td>[{\"id\": 28, \"name\": \"Action\"}, {\"id\": 12, \"nam...</td>\n",
       "      <td>http://www.avatarmovie.com/</td>\n",
       "      <td>19995</td>\n",
       "      <td>[{\"id\": 1463, \"name\": \"culture clash\"}, {\"id\":...</td>\n",
       "      <td>en</td>\n",
       "      <td>Avatar</td>\n",
       "      <td>In the 22nd century, a paraplegic Marine is di...</td>\n",
       "      <td>150.437577</td>\n",
       "      <td>[{\"name\": \"Ingenious Film Partners\", \"id\": 289...</td>\n",
       "      <td>...</td>\n",
       "      <td>2787965087</td>\n",
       "      <td>162.0</td>\n",
       "      <td>[{\"iso_639_1\": \"en\", \"name\": \"English\"}, {\"iso...</td>\n",
       "      <td>Released</td>\n",
       "      <td>Enter the World of Pandora.</td>\n",
       "      <td>Avatar</td>\n",
       "      <td>7.2</td>\n",
       "      <td>11800</td>\n",
       "      <td>2009.0</td>\n",
       "      <td>www.avatarmovie.com</td>\n",
       "    </tr>\n",
       "    <tr>\n",
       "      <th>1</th>\n",
       "      <td>300000000</td>\n",
       "      <td>[{\"id\": 12, \"name\": \"Adventure\"}, {\"id\": 14, \"...</td>\n",
       "      <td>http://disney.go.com/disneypictures/pirates/</td>\n",
       "      <td>285</td>\n",
       "      <td>[{\"id\": 270, \"name\": \"ocean\"}, {\"id\": 726, \"na...</td>\n",
       "      <td>en</td>\n",
       "      <td>Pirates of the Caribbean: At World's End</td>\n",
       "      <td>Captain Barbossa, long believed to be dead, ha...</td>\n",
       "      <td>139.082615</td>\n",
       "      <td>[{\"name\": \"Walt Disney Pictures\", \"id\": 2}, {\"...</td>\n",
       "      <td>...</td>\n",
       "      <td>961000000</td>\n",
       "      <td>169.0</td>\n",
       "      <td>[{\"iso_639_1\": \"en\", \"name\": \"English\"}]</td>\n",
       "      <td>Released</td>\n",
       "      <td>At the end of the world, the adventure begins.</td>\n",
       "      <td>Pirates of the Caribbean: At World's End</td>\n",
       "      <td>6.9</td>\n",
       "      <td>4500</td>\n",
       "      <td>2007.0</td>\n",
       "      <td>disney.go.com</td>\n",
       "    </tr>\n",
       "    <tr>\n",
       "      <th>2</th>\n",
       "      <td>245000000</td>\n",
       "      <td>[{\"id\": 28, \"name\": \"Action\"}, {\"id\": 12, \"nam...</td>\n",
       "      <td>http://www.sonypictures.com/movies/spectre/</td>\n",
       "      <td>206647</td>\n",
       "      <td>[{\"id\": 470, \"name\": \"spy\"}, {\"id\": 818, \"name...</td>\n",
       "      <td>en</td>\n",
       "      <td>Spectre</td>\n",
       "      <td>A cryptic message from Bond’s past sends him o...</td>\n",
       "      <td>107.376788</td>\n",
       "      <td>[{\"name\": \"Columbia Pictures\", \"id\": 5}, {\"nam...</td>\n",
       "      <td>...</td>\n",
       "      <td>880674609</td>\n",
       "      <td>148.0</td>\n",
       "      <td>[{\"iso_639_1\": \"fr\", \"name\": \"Fran\\u00e7ais\"},...</td>\n",
       "      <td>Released</td>\n",
       "      <td>A Plan No One Escapes</td>\n",
       "      <td>Spectre</td>\n",
       "      <td>6.3</td>\n",
       "      <td>4466</td>\n",
       "      <td>2015.0</td>\n",
       "      <td>www.sonypictures.com</td>\n",
       "    </tr>\n",
       "    <tr>\n",
       "      <th>3</th>\n",
       "      <td>250000000</td>\n",
       "      <td>[{\"id\": 28, \"name\": \"Action\"}, {\"id\": 80, \"nam...</td>\n",
       "      <td>http://www.thedarkknightrises.com/</td>\n",
       "      <td>49026</td>\n",
       "      <td>[{\"id\": 849, \"name\": \"dc comics\"}, {\"id\": 853,...</td>\n",
       "      <td>en</td>\n",
       "      <td>The Dark Knight Rises</td>\n",
       "      <td>Following the death of District Attorney Harve...</td>\n",
       "      <td>112.312950</td>\n",
       "      <td>[{\"name\": \"Legendary Pictures\", \"id\": 923}, {\"...</td>\n",
       "      <td>...</td>\n",
       "      <td>1084939099</td>\n",
       "      <td>165.0</td>\n",
       "      <td>[{\"iso_639_1\": \"en\", \"name\": \"English\"}]</td>\n",
       "      <td>Released</td>\n",
       "      <td>The Legend Ends</td>\n",
       "      <td>The Dark Knight Rises</td>\n",
       "      <td>7.6</td>\n",
       "      <td>9106</td>\n",
       "      <td>2012.0</td>\n",
       "      <td>www.thedarkknightrises.com</td>\n",
       "    </tr>\n",
       "    <tr>\n",
       "      <th>4</th>\n",
       "      <td>260000000</td>\n",
       "      <td>[{\"id\": 28, \"name\": \"Action\"}, {\"id\": 12, \"nam...</td>\n",
       "      <td>http://movies.disney.com/john-carter</td>\n",
       "      <td>49529</td>\n",
       "      <td>[{\"id\": 818, \"name\": \"based on novel\"}, {\"id\":...</td>\n",
       "      <td>en</td>\n",
       "      <td>John Carter</td>\n",
       "      <td>John Carter is a war-weary, former military ca...</td>\n",
       "      <td>43.926995</td>\n",
       "      <td>[{\"name\": \"Walt Disney Pictures\", \"id\": 2}]</td>\n",
       "      <td>...</td>\n",
       "      <td>284139100</td>\n",
       "      <td>132.0</td>\n",
       "      <td>[{\"iso_639_1\": \"en\", \"name\": \"English\"}]</td>\n",
       "      <td>Released</td>\n",
       "      <td>Lost in our world, found in another.</td>\n",
       "      <td>John Carter</td>\n",
       "      <td>6.1</td>\n",
       "      <td>2124</td>\n",
       "      <td>2012.0</td>\n",
       "      <td>movies.disney.com</td>\n",
       "    </tr>\n",
       "  </tbody>\n",
       "</table>\n",
       "<p>5 rows × 22 columns</p>\n",
       "</div>"
      ],
      "text/plain": [
       "      budget                                             genres  \\\n",
       "0  237000000  [{\"id\": 28, \"name\": \"Action\"}, {\"id\": 12, \"nam...   \n",
       "1  300000000  [{\"id\": 12, \"name\": \"Adventure\"}, {\"id\": 14, \"...   \n",
       "2  245000000  [{\"id\": 28, \"name\": \"Action\"}, {\"id\": 12, \"nam...   \n",
       "3  250000000  [{\"id\": 28, \"name\": \"Action\"}, {\"id\": 80, \"nam...   \n",
       "4  260000000  [{\"id\": 28, \"name\": \"Action\"}, {\"id\": 12, \"nam...   \n",
       "\n",
       "                                       homepage      id  \\\n",
       "0                   http://www.avatarmovie.com/   19995   \n",
       "1  http://disney.go.com/disneypictures/pirates/     285   \n",
       "2   http://www.sonypictures.com/movies/spectre/  206647   \n",
       "3            http://www.thedarkknightrises.com/   49026   \n",
       "4          http://movies.disney.com/john-carter   49529   \n",
       "\n",
       "                                            keywords original_language  \\\n",
       "0  [{\"id\": 1463, \"name\": \"culture clash\"}, {\"id\":...                en   \n",
       "1  [{\"id\": 270, \"name\": \"ocean\"}, {\"id\": 726, \"na...                en   \n",
       "2  [{\"id\": 470, \"name\": \"spy\"}, {\"id\": 818, \"name...                en   \n",
       "3  [{\"id\": 849, \"name\": \"dc comics\"}, {\"id\": 853,...                en   \n",
       "4  [{\"id\": 818, \"name\": \"based on novel\"}, {\"id\":...                en   \n",
       "\n",
       "                             original_title  \\\n",
       "0                                    Avatar   \n",
       "1  Pirates of the Caribbean: At World's End   \n",
       "2                                   Spectre   \n",
       "3                     The Dark Knight Rises   \n",
       "4                               John Carter   \n",
       "\n",
       "                                            overview  popularity  \\\n",
       "0  In the 22nd century, a paraplegic Marine is di...  150.437577   \n",
       "1  Captain Barbossa, long believed to be dead, ha...  139.082615   \n",
       "2  A cryptic message from Bond’s past sends him o...  107.376788   \n",
       "3  Following the death of District Attorney Harve...  112.312950   \n",
       "4  John Carter is a war-weary, former military ca...   43.926995   \n",
       "\n",
       "                                production_companies  \\\n",
       "0  [{\"name\": \"Ingenious Film Partners\", \"id\": 289...   \n",
       "1  [{\"name\": \"Walt Disney Pictures\", \"id\": 2}, {\"...   \n",
       "2  [{\"name\": \"Columbia Pictures\", \"id\": 5}, {\"nam...   \n",
       "3  [{\"name\": \"Legendary Pictures\", \"id\": 923}, {\"...   \n",
       "4        [{\"name\": \"Walt Disney Pictures\", \"id\": 2}]   \n",
       "\n",
       "              ...                 revenue runtime  \\\n",
       "0             ...              2787965087   162.0   \n",
       "1             ...               961000000   169.0   \n",
       "2             ...               880674609   148.0   \n",
       "3             ...              1084939099   165.0   \n",
       "4             ...               284139100   132.0   \n",
       "\n",
       "                                    spoken_languages    status  \\\n",
       "0  [{\"iso_639_1\": \"en\", \"name\": \"English\"}, {\"iso...  Released   \n",
       "1           [{\"iso_639_1\": \"en\", \"name\": \"English\"}]  Released   \n",
       "2  [{\"iso_639_1\": \"fr\", \"name\": \"Fran\\u00e7ais\"},...  Released   \n",
       "3           [{\"iso_639_1\": \"en\", \"name\": \"English\"}]  Released   \n",
       "4           [{\"iso_639_1\": \"en\", \"name\": \"English\"}]  Released   \n",
       "\n",
       "                                          tagline  \\\n",
       "0                     Enter the World of Pandora.   \n",
       "1  At the end of the world, the adventure begins.   \n",
       "2                           A Plan No One Escapes   \n",
       "3                                 The Legend Ends   \n",
       "4            Lost in our world, found in another.   \n",
       "\n",
       "                                      title vote_average vote_count    year  \\\n",
       "0                                    Avatar          7.2      11800  2009.0   \n",
       "1  Pirates of the Caribbean: At World's End          6.9       4500  2007.0   \n",
       "2                                   Spectre          6.3       4466  2015.0   \n",
       "3                     The Dark Knight Rises          7.6       9106  2012.0   \n",
       "4                               John Carter          6.1       2124  2012.0   \n",
       "\n",
       "                       domain  \n",
       "0         www.avatarmovie.com  \n",
       "1               disney.go.com  \n",
       "2        www.sonypictures.com  \n",
       "3  www.thedarkknightrises.com  \n",
       "4           movies.disney.com  \n",
       "\n",
       "[5 rows x 22 columns]"
      ]
     },
     "execution_count": 9,
     "metadata": {},
     "output_type": "execute_result"
    }
   ],
   "source": [
    "regex = r'(?:[a-zA-Z0-9](?:[a-zA-Z0-9\\-]{,61}[a-zA-Z0-9])?\\.)+[a-zA-Z]{2,6}'\n",
    "notnull_idx = movies['homepage'].notnull()\n",
    "movies['domain'] = movies['homepage'][notnull_idx].apply(lambda x: re.findall(regex, x)[0])\n",
    "movies.head()"
   ]
  },
  {
   "cell_type": "markdown",
   "metadata": {},
   "source": [
    "## QUESTION 5\n",
    "Extract a set of normalized tables. That is, each entry of a normalized table must contain exactly one value (not a list or a dictionary)."
   ]
  },
  {
   "cell_type": "code",
   "execution_count": 10,
   "metadata": {
    "collapsed": true
   },
   "outputs": [],
   "source": [
    "def isunique(df):\n",
    "    fields = list(df)\n",
    "    results = []\n",
    "    for x in range(0, len(fields)):\n",
    "        results.append ((fields[x] , df[fields[x]].is_unique))\n",
    "    return results"
   ]
  },
  {
   "cell_type": "code",
   "execution_count": 11,
   "metadata": {},
   "outputs": [
    {
     "data": {
      "text/plain": [
       "[('budget', False),\n",
       " ('genres', False),\n",
       " ('homepage', False),\n",
       " ('id', True),\n",
       " ('keywords', False),\n",
       " ('original_language', False),\n",
       " ('original_title', False),\n",
       " ('overview', False),\n",
       " ('popularity', False),\n",
       " ('production_companies', False),\n",
       " ('production_countries', False),\n",
       " ('release_date', False),\n",
       " ('revenue', False),\n",
       " ('runtime', False),\n",
       " ('spoken_languages', False),\n",
       " ('status', False),\n",
       " ('tagline', False),\n",
       " ('title', False),\n",
       " ('vote_average', False),\n",
       " ('vote_count', False),\n",
       " ('year', False),\n",
       " ('domain', False)]"
      ]
     },
     "execution_count": 11,
     "metadata": {},
     "output_type": "execute_result"
    }
   ],
   "source": [
    "isunique(movies)"
   ]
  },
  {
   "cell_type": "markdown",
   "metadata": {},
   "source": [
    "In the data frame movies, there is only one unique column, movie_id"
   ]
  },
  {
   "cell_type": "code",
   "execution_count": 13,
   "metadata": {
    "collapsed": true
   },
   "outputs": [],
   "source": [
    "genres_norm = movies[['id', 'genres']]"
   ]
  },
  {
   "cell_type": "code",
   "execution_count": 14,
   "metadata": {},
   "outputs": [
    {
     "data": {
      "text/html": [
       "<div>\n",
       "<style>\n",
       "    .dataframe thead tr:only-child th {\n",
       "        text-align: right;\n",
       "    }\n",
       "\n",
       "    .dataframe thead th {\n",
       "        text-align: left;\n",
       "    }\n",
       "\n",
       "    .dataframe tbody tr th {\n",
       "        vertical-align: top;\n",
       "    }\n",
       "</style>\n",
       "<table border=\"1\" class=\"dataframe\">\n",
       "  <thead>\n",
       "    <tr style=\"text-align: right;\">\n",
       "      <th></th>\n",
       "      <th>id</th>\n",
       "      <th>genres</th>\n",
       "    </tr>\n",
       "  </thead>\n",
       "  <tbody>\n",
       "    <tr>\n",
       "      <th>0</th>\n",
       "      <td>19995</td>\n",
       "      <td>[{\"id\": 28, \"name\": \"Action\"}, {\"id\": 12, \"nam...</td>\n",
       "    </tr>\n",
       "    <tr>\n",
       "      <th>1</th>\n",
       "      <td>285</td>\n",
       "      <td>[{\"id\": 12, \"name\": \"Adventure\"}, {\"id\": 14, \"...</td>\n",
       "    </tr>\n",
       "    <tr>\n",
       "      <th>2</th>\n",
       "      <td>206647</td>\n",
       "      <td>[{\"id\": 28, \"name\": \"Action\"}, {\"id\": 12, \"nam...</td>\n",
       "    </tr>\n",
       "    <tr>\n",
       "      <th>3</th>\n",
       "      <td>49026</td>\n",
       "      <td>[{\"id\": 28, \"name\": \"Action\"}, {\"id\": 80, \"nam...</td>\n",
       "    </tr>\n",
       "    <tr>\n",
       "      <th>4</th>\n",
       "      <td>49529</td>\n",
       "      <td>[{\"id\": 28, \"name\": \"Action\"}, {\"id\": 12, \"nam...</td>\n",
       "    </tr>\n",
       "  </tbody>\n",
       "</table>\n",
       "</div>"
      ],
      "text/plain": [
       "       id                                             genres\n",
       "0   19995  [{\"id\": 28, \"name\": \"Action\"}, {\"id\": 12, \"nam...\n",
       "1     285  [{\"id\": 12, \"name\": \"Adventure\"}, {\"id\": 14, \"...\n",
       "2  206647  [{\"id\": 28, \"name\": \"Action\"}, {\"id\": 12, \"nam...\n",
       "3   49026  [{\"id\": 28, \"name\": \"Action\"}, {\"id\": 80, \"nam...\n",
       "4   49529  [{\"id\": 28, \"name\": \"Action\"}, {\"id\": 12, \"nam..."
      ]
     },
     "execution_count": 14,
     "metadata": {},
     "output_type": "execute_result"
    }
   ],
   "source": [
    "genres_norm.head()"
   ]
  },
  {
   "cell_type": "code",
   "execution_count": 15,
   "metadata": {
    "collapsed": true
   },
   "outputs": [],
   "source": [
    "#this function turns lists and dictionary rows into columns in a new data frame.\n",
    "def in_table(df, _id, _dict):\n",
    "    df_norm = pd.DataFrame()\n",
    "    df_norm['movie_id']=''\n",
    "    \n",
    "    #create the df normalized with the columns setted to ''\n",
    "    list_keys = ast.literal_eval(df[_dict][0])[0].keys()\n",
    "    for key in list_keys:\n",
    "        df_norm[key] = ''\n",
    "    \n",
    "    for j in range(0, len(df)):\n",
    "        if ast.literal_eval(df[_dict][j]) != []:\n",
    "            list_keys = ast.literal_eval(df[_dict][j])[0].keys()\n",
    "            list_dict = ast.literal_eval(df[_dict][j])\n",
    "            for i in range(0, len(list_dict)):\n",
    "                lst = []\n",
    "                lst.append(df[_id][j])\n",
    "                for key in list_keys:\n",
    "                    lst.append(list_dict[i][key])\n",
    "                df_norm.loc[len(df_norm)] = lst\n",
    "    return df_norm"
   ]
  },
  {
   "cell_type": "code",
   "execution_count": 16,
   "metadata": {
    "collapsed": true
   },
   "outputs": [],
   "source": [
    "genres = in_table(movies, 'id', 'genres')"
   ]
  },
  {
   "cell_type": "code",
   "execution_count": 17,
   "metadata": {},
   "outputs": [
    {
     "data": {
      "text/html": [
       "<div>\n",
       "<style>\n",
       "    .dataframe thead tr:only-child th {\n",
       "        text-align: right;\n",
       "    }\n",
       "\n",
       "    .dataframe thead th {\n",
       "        text-align: left;\n",
       "    }\n",
       "\n",
       "    .dataframe tbody tr th {\n",
       "        vertical-align: top;\n",
       "    }\n",
       "</style>\n",
       "<table border=\"1\" class=\"dataframe\">\n",
       "  <thead>\n",
       "    <tr style=\"text-align: right;\">\n",
       "      <th></th>\n",
       "      <th>movie_id</th>\n",
       "      <th>id</th>\n",
       "      <th>name</th>\n",
       "    </tr>\n",
       "  </thead>\n",
       "  <tbody>\n",
       "    <tr>\n",
       "      <th>0</th>\n",
       "      <td>19995</td>\n",
       "      <td>28</td>\n",
       "      <td>Action</td>\n",
       "    </tr>\n",
       "    <tr>\n",
       "      <th>1</th>\n",
       "      <td>19995</td>\n",
       "      <td>12</td>\n",
       "      <td>Adventure</td>\n",
       "    </tr>\n",
       "    <tr>\n",
       "      <th>2</th>\n",
       "      <td>19995</td>\n",
       "      <td>14</td>\n",
       "      <td>Fantasy</td>\n",
       "    </tr>\n",
       "    <tr>\n",
       "      <th>3</th>\n",
       "      <td>19995</td>\n",
       "      <td>878</td>\n",
       "      <td>Science Fiction</td>\n",
       "    </tr>\n",
       "    <tr>\n",
       "      <th>4</th>\n",
       "      <td>285</td>\n",
       "      <td>12</td>\n",
       "      <td>Adventure</td>\n",
       "    </tr>\n",
       "  </tbody>\n",
       "</table>\n",
       "</div>"
      ],
      "text/plain": [
       "  movie_id   id             name\n",
       "0    19995   28           Action\n",
       "1    19995   12        Adventure\n",
       "2    19995   14          Fantasy\n",
       "3    19995  878  Science Fiction\n",
       "4      285   12        Adventure"
      ]
     },
     "execution_count": 17,
     "metadata": {},
     "output_type": "execute_result"
    }
   ],
   "source": [
    "genres.head()"
   ]
  },
  {
   "cell_type": "code",
   "execution_count": 18,
   "metadata": {
    "collapsed": true
   },
   "outputs": [],
   "source": [
    "keywords = in_table(movies, 'id', 'keywords')"
   ]
  },
  {
   "cell_type": "code",
   "execution_count": 19,
   "metadata": {},
   "outputs": [
    {
     "data": {
      "text/html": [
       "<div>\n",
       "<style>\n",
       "    .dataframe thead tr:only-child th {\n",
       "        text-align: right;\n",
       "    }\n",
       "\n",
       "    .dataframe thead th {\n",
       "        text-align: left;\n",
       "    }\n",
       "\n",
       "    .dataframe tbody tr th {\n",
       "        vertical-align: top;\n",
       "    }\n",
       "</style>\n",
       "<table border=\"1\" class=\"dataframe\">\n",
       "  <thead>\n",
       "    <tr style=\"text-align: right;\">\n",
       "      <th></th>\n",
       "      <th>movie_id</th>\n",
       "      <th>id</th>\n",
       "      <th>name</th>\n",
       "    </tr>\n",
       "  </thead>\n",
       "  <tbody>\n",
       "    <tr>\n",
       "      <th>0</th>\n",
       "      <td>19995</td>\n",
       "      <td>1463</td>\n",
       "      <td>culture clash</td>\n",
       "    </tr>\n",
       "    <tr>\n",
       "      <th>1</th>\n",
       "      <td>19995</td>\n",
       "      <td>2964</td>\n",
       "      <td>future</td>\n",
       "    </tr>\n",
       "    <tr>\n",
       "      <th>2</th>\n",
       "      <td>19995</td>\n",
       "      <td>3386</td>\n",
       "      <td>space war</td>\n",
       "    </tr>\n",
       "    <tr>\n",
       "      <th>3</th>\n",
       "      <td>19995</td>\n",
       "      <td>3388</td>\n",
       "      <td>space colony</td>\n",
       "    </tr>\n",
       "    <tr>\n",
       "      <th>4</th>\n",
       "      <td>19995</td>\n",
       "      <td>3679</td>\n",
       "      <td>society</td>\n",
       "    </tr>\n",
       "  </tbody>\n",
       "</table>\n",
       "</div>"
      ],
      "text/plain": [
       "  movie_id    id           name\n",
       "0    19995  1463  culture clash\n",
       "1    19995  2964         future\n",
       "2    19995  3386      space war\n",
       "3    19995  3388   space colony\n",
       "4    19995  3679        society"
      ]
     },
     "execution_count": 19,
     "metadata": {},
     "output_type": "execute_result"
    }
   ],
   "source": [
    "keywords.head()"
   ]
  },
  {
   "cell_type": "code",
   "execution_count": 20,
   "metadata": {
    "collapsed": true
   },
   "outputs": [],
   "source": [
    "production_companies = in_table(movies, 'id', 'production_companies')"
   ]
  },
  {
   "cell_type": "code",
   "execution_count": 21,
   "metadata": {},
   "outputs": [
    {
     "data": {
      "text/html": [
       "<div>\n",
       "<style>\n",
       "    .dataframe thead tr:only-child th {\n",
       "        text-align: right;\n",
       "    }\n",
       "\n",
       "    .dataframe thead th {\n",
       "        text-align: left;\n",
       "    }\n",
       "\n",
       "    .dataframe tbody tr th {\n",
       "        vertical-align: top;\n",
       "    }\n",
       "</style>\n",
       "<table border=\"1\" class=\"dataframe\">\n",
       "  <thead>\n",
       "    <tr style=\"text-align: right;\">\n",
       "      <th></th>\n",
       "      <th>movie_id</th>\n",
       "      <th>name</th>\n",
       "      <th>id</th>\n",
       "    </tr>\n",
       "  </thead>\n",
       "  <tbody>\n",
       "    <tr>\n",
       "      <th>0</th>\n",
       "      <td>19995</td>\n",
       "      <td>Ingenious Film Partners</td>\n",
       "      <td>289</td>\n",
       "    </tr>\n",
       "    <tr>\n",
       "      <th>1</th>\n",
       "      <td>19995</td>\n",
       "      <td>Twentieth Century Fox Film Corporation</td>\n",
       "      <td>306</td>\n",
       "    </tr>\n",
       "    <tr>\n",
       "      <th>2</th>\n",
       "      <td>19995</td>\n",
       "      <td>Dune Entertainment</td>\n",
       "      <td>444</td>\n",
       "    </tr>\n",
       "    <tr>\n",
       "      <th>3</th>\n",
       "      <td>19995</td>\n",
       "      <td>Lightstorm Entertainment</td>\n",
       "      <td>574</td>\n",
       "    </tr>\n",
       "    <tr>\n",
       "      <th>4</th>\n",
       "      <td>285</td>\n",
       "      <td>Walt Disney Pictures</td>\n",
       "      <td>2</td>\n",
       "    </tr>\n",
       "  </tbody>\n",
       "</table>\n",
       "</div>"
      ],
      "text/plain": [
       "  movie_id                                    name   id\n",
       "0    19995                 Ingenious Film Partners  289\n",
       "1    19995  Twentieth Century Fox Film Corporation  306\n",
       "2    19995                      Dune Entertainment  444\n",
       "3    19995                Lightstorm Entertainment  574\n",
       "4      285                    Walt Disney Pictures    2"
      ]
     },
     "execution_count": 21,
     "metadata": {},
     "output_type": "execute_result"
    }
   ],
   "source": [
    "production_companies.head()"
   ]
  },
  {
   "cell_type": "code",
   "execution_count": 22,
   "metadata": {
    "collapsed": true
   },
   "outputs": [],
   "source": [
    "production_countries = in_table(movies, 'id', 'production_countries')"
   ]
  },
  {
   "cell_type": "code",
   "execution_count": 23,
   "metadata": {},
   "outputs": [
    {
     "data": {
      "text/html": [
       "<div>\n",
       "<style>\n",
       "    .dataframe thead tr:only-child th {\n",
       "        text-align: right;\n",
       "    }\n",
       "\n",
       "    .dataframe thead th {\n",
       "        text-align: left;\n",
       "    }\n",
       "\n",
       "    .dataframe tbody tr th {\n",
       "        vertical-align: top;\n",
       "    }\n",
       "</style>\n",
       "<table border=\"1\" class=\"dataframe\">\n",
       "  <thead>\n",
       "    <tr style=\"text-align: right;\">\n",
       "      <th></th>\n",
       "      <th>movie_id</th>\n",
       "      <th>iso_3166_1</th>\n",
       "      <th>name</th>\n",
       "    </tr>\n",
       "  </thead>\n",
       "  <tbody>\n",
       "    <tr>\n",
       "      <th>0</th>\n",
       "      <td>19995</td>\n",
       "      <td>US</td>\n",
       "      <td>United States of America</td>\n",
       "    </tr>\n",
       "    <tr>\n",
       "      <th>1</th>\n",
       "      <td>19995</td>\n",
       "      <td>GB</td>\n",
       "      <td>United Kingdom</td>\n",
       "    </tr>\n",
       "    <tr>\n",
       "      <th>2</th>\n",
       "      <td>285</td>\n",
       "      <td>US</td>\n",
       "      <td>United States of America</td>\n",
       "    </tr>\n",
       "    <tr>\n",
       "      <th>3</th>\n",
       "      <td>206647</td>\n",
       "      <td>GB</td>\n",
       "      <td>United Kingdom</td>\n",
       "    </tr>\n",
       "    <tr>\n",
       "      <th>4</th>\n",
       "      <td>206647</td>\n",
       "      <td>US</td>\n",
       "      <td>United States of America</td>\n",
       "    </tr>\n",
       "  </tbody>\n",
       "</table>\n",
       "</div>"
      ],
      "text/plain": [
       "  movie_id iso_3166_1                      name\n",
       "0    19995         US  United States of America\n",
       "1    19995         GB            United Kingdom\n",
       "2      285         US  United States of America\n",
       "3   206647         GB            United Kingdom\n",
       "4   206647         US  United States of America"
      ]
     },
     "execution_count": 23,
     "metadata": {},
     "output_type": "execute_result"
    }
   ],
   "source": [
    "production_countries.head()"
   ]
  },
  {
   "cell_type": "code",
   "execution_count": 24,
   "metadata": {
    "collapsed": true
   },
   "outputs": [],
   "source": [
    "spoken_languages = in_table(movies, 'id', 'spoken_languages')"
   ]
  },
  {
   "cell_type": "code",
   "execution_count": 25,
   "metadata": {},
   "outputs": [
    {
     "data": {
      "text/html": [
       "<div>\n",
       "<style>\n",
       "    .dataframe thead tr:only-child th {\n",
       "        text-align: right;\n",
       "    }\n",
       "\n",
       "    .dataframe thead th {\n",
       "        text-align: left;\n",
       "    }\n",
       "\n",
       "    .dataframe tbody tr th {\n",
       "        vertical-align: top;\n",
       "    }\n",
       "</style>\n",
       "<table border=\"1\" class=\"dataframe\">\n",
       "  <thead>\n",
       "    <tr style=\"text-align: right;\">\n",
       "      <th></th>\n",
       "      <th>movie_id</th>\n",
       "      <th>iso_639_1</th>\n",
       "      <th>name</th>\n",
       "    </tr>\n",
       "  </thead>\n",
       "  <tbody>\n",
       "    <tr>\n",
       "      <th>0</th>\n",
       "      <td>19995</td>\n",
       "      <td>en</td>\n",
       "      <td>English</td>\n",
       "    </tr>\n",
       "    <tr>\n",
       "      <th>1</th>\n",
       "      <td>19995</td>\n",
       "      <td>es</td>\n",
       "      <td>Español</td>\n",
       "    </tr>\n",
       "    <tr>\n",
       "      <th>2</th>\n",
       "      <td>285</td>\n",
       "      <td>en</td>\n",
       "      <td>English</td>\n",
       "    </tr>\n",
       "    <tr>\n",
       "      <th>3</th>\n",
       "      <td>206647</td>\n",
       "      <td>fr</td>\n",
       "      <td>Français</td>\n",
       "    </tr>\n",
       "    <tr>\n",
       "      <th>4</th>\n",
       "      <td>206647</td>\n",
       "      <td>en</td>\n",
       "      <td>English</td>\n",
       "    </tr>\n",
       "  </tbody>\n",
       "</table>\n",
       "</div>"
      ],
      "text/plain": [
       "  movie_id iso_639_1      name\n",
       "0    19995        en   English\n",
       "1    19995        es   Español\n",
       "2      285        en   English\n",
       "3   206647        fr  Français\n",
       "4   206647        en   English"
      ]
     },
     "execution_count": 25,
     "metadata": {},
     "output_type": "execute_result"
    }
   ],
   "source": [
    "spoken_languages.head()"
   ]
  },
  {
   "cell_type": "code",
   "execution_count": 26,
   "metadata": {
    "collapsed": true
   },
   "outputs": [],
   "source": [
    "movies_norm = movies.drop([\"tagline\", \"title\", \"year\", \"domain\", \"genres\", \"keywords\", \"production_companies\", \n",
    "                          \"production_countries\", \"spoken_languages\"],axis=1)"
   ]
  },
  {
   "cell_type": "code",
   "execution_count": 27,
   "metadata": {},
   "outputs": [
    {
     "data": {
      "text/html": [
       "<div>\n",
       "<style>\n",
       "    .dataframe thead tr:only-child th {\n",
       "        text-align: right;\n",
       "    }\n",
       "\n",
       "    .dataframe thead th {\n",
       "        text-align: left;\n",
       "    }\n",
       "\n",
       "    .dataframe tbody tr th {\n",
       "        vertical-align: top;\n",
       "    }\n",
       "</style>\n",
       "<table border=\"1\" class=\"dataframe\">\n",
       "  <thead>\n",
       "    <tr style=\"text-align: right;\">\n",
       "      <th></th>\n",
       "      <th>budget</th>\n",
       "      <th>homepage</th>\n",
       "      <th>id</th>\n",
       "      <th>original_language</th>\n",
       "      <th>original_title</th>\n",
       "      <th>overview</th>\n",
       "      <th>popularity</th>\n",
       "      <th>release_date</th>\n",
       "      <th>revenue</th>\n",
       "      <th>runtime</th>\n",
       "      <th>status</th>\n",
       "      <th>vote_average</th>\n",
       "      <th>vote_count</th>\n",
       "    </tr>\n",
       "  </thead>\n",
       "  <tbody>\n",
       "    <tr>\n",
       "      <th>0</th>\n",
       "      <td>237000000</td>\n",
       "      <td>http://www.avatarmovie.com/</td>\n",
       "      <td>19995</td>\n",
       "      <td>en</td>\n",
       "      <td>Avatar</td>\n",
       "      <td>In the 22nd century, a paraplegic Marine is di...</td>\n",
       "      <td>150.437577</td>\n",
       "      <td>2009-12-10</td>\n",
       "      <td>2787965087</td>\n",
       "      <td>162.0</td>\n",
       "      <td>Released</td>\n",
       "      <td>7.2</td>\n",
       "      <td>11800</td>\n",
       "    </tr>\n",
       "    <tr>\n",
       "      <th>1</th>\n",
       "      <td>300000000</td>\n",
       "      <td>http://disney.go.com/disneypictures/pirates/</td>\n",
       "      <td>285</td>\n",
       "      <td>en</td>\n",
       "      <td>Pirates of the Caribbean: At World's End</td>\n",
       "      <td>Captain Barbossa, long believed to be dead, ha...</td>\n",
       "      <td>139.082615</td>\n",
       "      <td>2007-05-19</td>\n",
       "      <td>961000000</td>\n",
       "      <td>169.0</td>\n",
       "      <td>Released</td>\n",
       "      <td>6.9</td>\n",
       "      <td>4500</td>\n",
       "    </tr>\n",
       "    <tr>\n",
       "      <th>2</th>\n",
       "      <td>245000000</td>\n",
       "      <td>http://www.sonypictures.com/movies/spectre/</td>\n",
       "      <td>206647</td>\n",
       "      <td>en</td>\n",
       "      <td>Spectre</td>\n",
       "      <td>A cryptic message from Bond’s past sends him o...</td>\n",
       "      <td>107.376788</td>\n",
       "      <td>2015-10-26</td>\n",
       "      <td>880674609</td>\n",
       "      <td>148.0</td>\n",
       "      <td>Released</td>\n",
       "      <td>6.3</td>\n",
       "      <td>4466</td>\n",
       "    </tr>\n",
       "    <tr>\n",
       "      <th>3</th>\n",
       "      <td>250000000</td>\n",
       "      <td>http://www.thedarkknightrises.com/</td>\n",
       "      <td>49026</td>\n",
       "      <td>en</td>\n",
       "      <td>The Dark Knight Rises</td>\n",
       "      <td>Following the death of District Attorney Harve...</td>\n",
       "      <td>112.312950</td>\n",
       "      <td>2012-07-16</td>\n",
       "      <td>1084939099</td>\n",
       "      <td>165.0</td>\n",
       "      <td>Released</td>\n",
       "      <td>7.6</td>\n",
       "      <td>9106</td>\n",
       "    </tr>\n",
       "    <tr>\n",
       "      <th>4</th>\n",
       "      <td>260000000</td>\n",
       "      <td>http://movies.disney.com/john-carter</td>\n",
       "      <td>49529</td>\n",
       "      <td>en</td>\n",
       "      <td>John Carter</td>\n",
       "      <td>John Carter is a war-weary, former military ca...</td>\n",
       "      <td>43.926995</td>\n",
       "      <td>2012-03-07</td>\n",
       "      <td>284139100</td>\n",
       "      <td>132.0</td>\n",
       "      <td>Released</td>\n",
       "      <td>6.1</td>\n",
       "      <td>2124</td>\n",
       "    </tr>\n",
       "  </tbody>\n",
       "</table>\n",
       "</div>"
      ],
      "text/plain": [
       "      budget                                      homepage      id  \\\n",
       "0  237000000                   http://www.avatarmovie.com/   19995   \n",
       "1  300000000  http://disney.go.com/disneypictures/pirates/     285   \n",
       "2  245000000   http://www.sonypictures.com/movies/spectre/  206647   \n",
       "3  250000000            http://www.thedarkknightrises.com/   49026   \n",
       "4  260000000          http://movies.disney.com/john-carter   49529   \n",
       "\n",
       "  original_language                            original_title  \\\n",
       "0                en                                    Avatar   \n",
       "1                en  Pirates of the Caribbean: At World's End   \n",
       "2                en                                   Spectre   \n",
       "3                en                     The Dark Knight Rises   \n",
       "4                en                               John Carter   \n",
       "\n",
       "                                            overview  popularity release_date  \\\n",
       "0  In the 22nd century, a paraplegic Marine is di...  150.437577   2009-12-10   \n",
       "1  Captain Barbossa, long believed to be dead, ha...  139.082615   2007-05-19   \n",
       "2  A cryptic message from Bond’s past sends him o...  107.376788   2015-10-26   \n",
       "3  Following the death of District Attorney Harve...  112.312950   2012-07-16   \n",
       "4  John Carter is a war-weary, former military ca...   43.926995   2012-03-07   \n",
       "\n",
       "      revenue  runtime    status  vote_average  vote_count  \n",
       "0  2787965087    162.0  Released           7.2       11800  \n",
       "1   961000000    169.0  Released           6.9        4500  \n",
       "2   880674609    148.0  Released           6.3        4466  \n",
       "3  1084939099    165.0  Released           7.6        9106  \n",
       "4   284139100    132.0  Released           6.1        2124  "
      ]
     },
     "execution_count": 27,
     "metadata": {},
     "output_type": "execute_result"
    }
   ],
   "source": [
    "movies_norm.head()"
   ]
  },
  {
   "cell_type": "code",
   "execution_count": 28,
   "metadata": {},
   "outputs": [
    {
     "data": {
      "text/html": [
       "<div>\n",
       "<style>\n",
       "    .dataframe thead tr:only-child th {\n",
       "        text-align: right;\n",
       "    }\n",
       "\n",
       "    .dataframe thead th {\n",
       "        text-align: left;\n",
       "    }\n",
       "\n",
       "    .dataframe tbody tr th {\n",
       "        vertical-align: top;\n",
       "    }\n",
       "</style>\n",
       "<table border=\"1\" class=\"dataframe\">\n",
       "  <thead>\n",
       "    <tr style=\"text-align: right;\">\n",
       "      <th></th>\n",
       "      <th>homepage</th>\n",
       "      <th>domain</th>\n",
       "    </tr>\n",
       "  </thead>\n",
       "  <tbody>\n",
       "    <tr>\n",
       "      <th>0</th>\n",
       "      <td>http://www.avatarmovie.com/</td>\n",
       "      <td>www.avatarmovie.com</td>\n",
       "    </tr>\n",
       "    <tr>\n",
       "      <th>1</th>\n",
       "      <td>http://disney.go.com/disneypictures/pirates/</td>\n",
       "      <td>disney.go.com</td>\n",
       "    </tr>\n",
       "    <tr>\n",
       "      <th>2</th>\n",
       "      <td>http://www.sonypictures.com/movies/spectre/</td>\n",
       "      <td>www.sonypictures.com</td>\n",
       "    </tr>\n",
       "    <tr>\n",
       "      <th>3</th>\n",
       "      <td>http://www.thedarkknightrises.com/</td>\n",
       "      <td>www.thedarkknightrises.com</td>\n",
       "    </tr>\n",
       "    <tr>\n",
       "      <th>4</th>\n",
       "      <td>http://movies.disney.com/john-carter</td>\n",
       "      <td>movies.disney.com</td>\n",
       "    </tr>\n",
       "  </tbody>\n",
       "</table>\n",
       "</div>"
      ],
      "text/plain": [
       "                                       homepage                      domain\n",
       "0                   http://www.avatarmovie.com/         www.avatarmovie.com\n",
       "1  http://disney.go.com/disneypictures/pirates/               disney.go.com\n",
       "2   http://www.sonypictures.com/movies/spectre/        www.sonypictures.com\n",
       "3            http://www.thedarkknightrises.com/  www.thedarkknightrises.com\n",
       "4          http://movies.disney.com/john-carter           movies.disney.com"
      ]
     },
     "execution_count": 28,
     "metadata": {},
     "output_type": "execute_result"
    }
   ],
   "source": [
    "homepage_norm = movies[['homepage', 'domain']]\n",
    "homepage_norm.head()"
   ]
  },
  {
   "cell_type": "code",
   "execution_count": 29,
   "metadata": {},
   "outputs": [
    {
     "data": {
      "text/html": [
       "<div>\n",
       "<style>\n",
       "    .dataframe thead tr:only-child th {\n",
       "        text-align: right;\n",
       "    }\n",
       "\n",
       "    .dataframe thead th {\n",
       "        text-align: left;\n",
       "    }\n",
       "\n",
       "    .dataframe tbody tr th {\n",
       "        vertical-align: top;\n",
       "    }\n",
       "</style>\n",
       "<table border=\"1\" class=\"dataframe\">\n",
       "  <thead>\n",
       "    <tr style=\"text-align: right;\">\n",
       "      <th></th>\n",
       "      <th>title</th>\n",
       "      <th>tagline</th>\n",
       "    </tr>\n",
       "  </thead>\n",
       "  <tbody>\n",
       "    <tr>\n",
       "      <th>0</th>\n",
       "      <td>Avatar</td>\n",
       "      <td>Enter the World of Pandora.</td>\n",
       "    </tr>\n",
       "    <tr>\n",
       "      <th>1</th>\n",
       "      <td>Pirates of the Caribbean: At World's End</td>\n",
       "      <td>At the end of the world, the adventure begins.</td>\n",
       "    </tr>\n",
       "    <tr>\n",
       "      <th>2</th>\n",
       "      <td>Spectre</td>\n",
       "      <td>A Plan No One Escapes</td>\n",
       "    </tr>\n",
       "    <tr>\n",
       "      <th>3</th>\n",
       "      <td>The Dark Knight Rises</td>\n",
       "      <td>The Legend Ends</td>\n",
       "    </tr>\n",
       "    <tr>\n",
       "      <th>4</th>\n",
       "      <td>John Carter</td>\n",
       "      <td>Lost in our world, found in another.</td>\n",
       "    </tr>\n",
       "  </tbody>\n",
       "</table>\n",
       "</div>"
      ],
      "text/plain": [
       "                                      title  \\\n",
       "0                                    Avatar   \n",
       "1  Pirates of the Caribbean: At World's End   \n",
       "2                                   Spectre   \n",
       "3                     The Dark Knight Rises   \n",
       "4                               John Carter   \n",
       "\n",
       "                                          tagline  \n",
       "0                     Enter the World of Pandora.  \n",
       "1  At the end of the world, the adventure begins.  \n",
       "2                           A Plan No One Escapes  \n",
       "3                                 The Legend Ends  \n",
       "4            Lost in our world, found in another.  "
      ]
     },
     "execution_count": 29,
     "metadata": {},
     "output_type": "execute_result"
    }
   ],
   "source": [
    "title_norm = movies[['title', 'tagline']]\n",
    "title_norm.head()"
   ]
  },
  {
   "cell_type": "markdown",
   "metadata": {},
   "source": [
    "In this section, I splitted the table Movies, creating 8 normalized tables.\n",
    "This tables are:\n",
    "    Genres\n",
    "    Keywords\n",
    "    Production_Companies\n",
    "    Production_Countries\n",
    "    Spoken_Languages\n",
    "    Homepage_Norm\n",
    "    Title_Norm\n",
    "    Movies_Norm\n",
    "    \n",
    "Movies_norm is the normalized table without the bad functional dependencies.\n",
    "The tables \"Title_Norm\" and \"Homepage_Norm\" are obtained directly from the data frame Movies.\n",
    "The other 5 data frames are obtained using the function in_table, which turns lists and dictionary rows into columns in a new data frame."
   ]
  },
  {
   "cell_type": "markdown",
   "metadata": {
    "collapsed": true
   },
   "source": [
    "## QUESTION 6\n",
    "For each movie, compute the gross margin (difference between revenue and budget)"
   ]
  },
  {
   "cell_type": "code",
   "execution_count": 36,
   "metadata": {},
   "outputs": [
    {
     "data": {
      "text/html": [
       "<div>\n",
       "<style>\n",
       "    .dataframe thead tr:only-child th {\n",
       "        text-align: right;\n",
       "    }\n",
       "\n",
       "    .dataframe thead th {\n",
       "        text-align: left;\n",
       "    }\n",
       "\n",
       "    .dataframe tbody tr th {\n",
       "        vertical-align: top;\n",
       "    }\n",
       "</style>\n",
       "<table border=\"1\" class=\"dataframe\">\n",
       "  <thead>\n",
       "    <tr style=\"text-align: right;\">\n",
       "      <th></th>\n",
       "      <th>original_title</th>\n",
       "      <th>budget</th>\n",
       "      <th>revenue</th>\n",
       "      <th>gross margin</th>\n",
       "    </tr>\n",
       "  </thead>\n",
       "  <tbody>\n",
       "    <tr>\n",
       "      <th>0</th>\n",
       "      <td>Avatar</td>\n",
       "      <td>237000000</td>\n",
       "      <td>2787965087</td>\n",
       "      <td>2550965087</td>\n",
       "    </tr>\n",
       "    <tr>\n",
       "      <th>1</th>\n",
       "      <td>Pirates of the Caribbean: At World's End</td>\n",
       "      <td>300000000</td>\n",
       "      <td>961000000</td>\n",
       "      <td>661000000</td>\n",
       "    </tr>\n",
       "    <tr>\n",
       "      <th>2</th>\n",
       "      <td>Spectre</td>\n",
       "      <td>245000000</td>\n",
       "      <td>880674609</td>\n",
       "      <td>635674609</td>\n",
       "    </tr>\n",
       "    <tr>\n",
       "      <th>3</th>\n",
       "      <td>The Dark Knight Rises</td>\n",
       "      <td>250000000</td>\n",
       "      <td>1084939099</td>\n",
       "      <td>834939099</td>\n",
       "    </tr>\n",
       "    <tr>\n",
       "      <th>4</th>\n",
       "      <td>John Carter</td>\n",
       "      <td>260000000</td>\n",
       "      <td>284139100</td>\n",
       "      <td>24139100</td>\n",
       "    </tr>\n",
       "  </tbody>\n",
       "</table>\n",
       "</div>"
      ],
      "text/plain": [
       "                             original_title     budget     revenue  \\\n",
       "0                                    Avatar  237000000  2787965087   \n",
       "1  Pirates of the Caribbean: At World's End  300000000   961000000   \n",
       "2                                   Spectre  245000000   880674609   \n",
       "3                     The Dark Knight Rises  250000000  1084939099   \n",
       "4                               John Carter  260000000   284139100   \n",
       "\n",
       "   gross margin  \n",
       "0    2550965087  \n",
       "1     661000000  \n",
       "2     635674609  \n",
       "3     834939099  \n",
       "4      24139100  "
      ]
     },
     "execution_count": 36,
     "metadata": {},
     "output_type": "execute_result"
    }
   ],
   "source": [
    "movies['gross margin'] = movies['revenue'] - movies['budget']\n",
    "movies[['original_title', 'budget', 'revenue', 'gross margin']].head()"
   ]
  },
  {
   "cell_type": "markdown",
   "metadata": {},
   "source": [
    "## QUESTION 7\n",
    "For each movie, compute the number of crew members"
   ]
  },
  {
   "cell_type": "code",
   "execution_count": 37,
   "metadata": {
    "collapsed": true
   },
   "outputs": [],
   "source": [
    "#create a dictionary in which I store the id of each crew member\n",
    "dict_crew = {}\n",
    "for i in range(0, len(credits)):\n",
    "    key = credits['movie_id'][i]\n",
    "    dict_crew[key] = []\n",
    "    list = ast.literal_eval(credits['crew'][i])\n",
    "    x = 0\n",
    "    for x in range(0, len(list)):\n",
    "        id_crew = list[x]['id']\n",
    "        if id_crew not in dict_crew[key]:\n",
    "            dict_crew[key].append(id_crew)"
   ]
  },
  {
   "cell_type": "code",
   "execution_count": 38,
   "metadata": {},
   "outputs": [
    {
     "data": {
      "text/html": [
       "<div>\n",
       "<style>\n",
       "    .dataframe thead tr:only-child th {\n",
       "        text-align: right;\n",
       "    }\n",
       "\n",
       "    .dataframe thead th {\n",
       "        text-align: left;\n",
       "    }\n",
       "\n",
       "    .dataframe tbody tr th {\n",
       "        vertical-align: top;\n",
       "    }\n",
       "</style>\n",
       "<table border=\"1\" class=\"dataframe\">\n",
       "  <thead>\n",
       "    <tr style=\"text-align: right;\">\n",
       "      <th></th>\n",
       "      <th>movie_id</th>\n",
       "      <th>title</th>\n",
       "      <th>cast</th>\n",
       "      <th>crew</th>\n",
       "      <th>cast_members</th>\n",
       "      <th>crew_members</th>\n",
       "    </tr>\n",
       "  </thead>\n",
       "  <tbody>\n",
       "    <tr>\n",
       "      <th>0</th>\n",
       "      <td>19995</td>\n",
       "      <td>Avatar</td>\n",
       "      <td>[{\"cast_id\": 242, \"character\": \"Jake Sully\", \"...</td>\n",
       "      <td>[{\"credit_id\": \"52fe48009251416c750aca23\", \"de...</td>\n",
       "      <td>83</td>\n",
       "      <td>146</td>\n",
       "    </tr>\n",
       "    <tr>\n",
       "      <th>1</th>\n",
       "      <td>285</td>\n",
       "      <td>Pirates of the Caribbean: At World's End</td>\n",
       "      <td>[{\"cast_id\": 4, \"character\": \"Captain Jack Spa...</td>\n",
       "      <td>[{\"credit_id\": \"52fe4232c3a36847f800b579\", \"de...</td>\n",
       "      <td>34</td>\n",
       "      <td>32</td>\n",
       "    </tr>\n",
       "    <tr>\n",
       "      <th>2</th>\n",
       "      <td>206647</td>\n",
       "      <td>Spectre</td>\n",
       "      <td>[{\"cast_id\": 1, \"character\": \"James Bond\", \"cr...</td>\n",
       "      <td>[{\"credit_id\": \"54805967c3a36829b5002c41\", \"de...</td>\n",
       "      <td>83</td>\n",
       "      <td>150</td>\n",
       "    </tr>\n",
       "    <tr>\n",
       "      <th>3</th>\n",
       "      <td>49026</td>\n",
       "      <td>The Dark Knight Rises</td>\n",
       "      <td>[{\"cast_id\": 2, \"character\": \"Bruce Wayne / Ba...</td>\n",
       "      <td>[{\"credit_id\": \"52fe4781c3a36847f81398c3\", \"de...</td>\n",
       "      <td>158</td>\n",
       "      <td>210</td>\n",
       "    </tr>\n",
       "    <tr>\n",
       "      <th>4</th>\n",
       "      <td>49529</td>\n",
       "      <td>John Carter</td>\n",
       "      <td>[{\"cast_id\": 5, \"character\": \"John Carter\", \"c...</td>\n",
       "      <td>[{\"credit_id\": \"52fe479ac3a36847f813eaa3\", \"de...</td>\n",
       "      <td>27</td>\n",
       "      <td>129</td>\n",
       "    </tr>\n",
       "  </tbody>\n",
       "</table>\n",
       "</div>"
      ],
      "text/plain": [
       "   movie_id                                     title  \\\n",
       "0     19995                                    Avatar   \n",
       "1       285  Pirates of the Caribbean: At World's End   \n",
       "2    206647                                   Spectre   \n",
       "3     49026                     The Dark Knight Rises   \n",
       "4     49529                               John Carter   \n",
       "\n",
       "                                                cast  \\\n",
       "0  [{\"cast_id\": 242, \"character\": \"Jake Sully\", \"...   \n",
       "1  [{\"cast_id\": 4, \"character\": \"Captain Jack Spa...   \n",
       "2  [{\"cast_id\": 1, \"character\": \"James Bond\", \"cr...   \n",
       "3  [{\"cast_id\": 2, \"character\": \"Bruce Wayne / Ba...   \n",
       "4  [{\"cast_id\": 5, \"character\": \"John Carter\", \"c...   \n",
       "\n",
       "                                                crew  cast_members  \\\n",
       "0  [{\"credit_id\": \"52fe48009251416c750aca23\", \"de...            83   \n",
       "1  [{\"credit_id\": \"52fe4232c3a36847f800b579\", \"de...            34   \n",
       "2  [{\"credit_id\": \"54805967c3a36829b5002c41\", \"de...            83   \n",
       "3  [{\"credit_id\": \"52fe4781c3a36847f81398c3\", \"de...           158   \n",
       "4  [{\"credit_id\": \"52fe479ac3a36847f813eaa3\", \"de...            27   \n",
       "\n",
       "   crew_members  \n",
       "0           146  \n",
       "1            32  \n",
       "2           150  \n",
       "3           210  \n",
       "4           129  "
      ]
     },
     "execution_count": 38,
     "metadata": {},
     "output_type": "execute_result"
    }
   ],
   "source": [
    "#I use the dictionary created previously to count the crew members for each film ID and store the \n",
    "#result in the table Credits\n",
    "credits['crew_members']= credits.apply(lambda row: len(dict_crew[(row['movie_id'])]), axis=1)\n",
    "credits.head()"
   ]
  },
  {
   "cell_type": "markdown",
   "metadata": {},
   "source": [
    "## QUESTION 8\n",
    "For each movie, compute the number of directors"
   ]
  },
  {
   "cell_type": "code",
   "execution_count": 39,
   "metadata": {
    "collapsed": true
   },
   "outputs": [],
   "source": [
    "#Create a dictionary in which I store the number of directors for each film\n",
    "dict_director = {}\n",
    "for i in range(0, len(credits)):\n",
    "    key = credits['movie_id'][i]\n",
    "    dict_director[key] = 0\n",
    "    list = ast.literal_eval(credits['crew'][i])\n",
    "    x = 0\n",
    "    for x in range(0, len(list)):\n",
    "        director = list[x]['job']\n",
    "        if director == \"Director\":\n",
    "            dict_director[key] += 1"
   ]
  },
  {
   "cell_type": "code",
   "execution_count": 40,
   "metadata": {},
   "outputs": [
    {
     "data": {
      "text/html": [
       "<div>\n",
       "<style>\n",
       "    .dataframe thead tr:only-child th {\n",
       "        text-align: right;\n",
       "    }\n",
       "\n",
       "    .dataframe thead th {\n",
       "        text-align: left;\n",
       "    }\n",
       "\n",
       "    .dataframe tbody tr th {\n",
       "        vertical-align: top;\n",
       "    }\n",
       "</style>\n",
       "<table border=\"1\" class=\"dataframe\">\n",
       "  <thead>\n",
       "    <tr style=\"text-align: right;\">\n",
       "      <th></th>\n",
       "      <th>movie_id</th>\n",
       "      <th>title</th>\n",
       "      <th>cast</th>\n",
       "      <th>crew</th>\n",
       "      <th>cast_members</th>\n",
       "      <th>crew_members</th>\n",
       "      <th>dir_members</th>\n",
       "    </tr>\n",
       "  </thead>\n",
       "  <tbody>\n",
       "    <tr>\n",
       "      <th>0</th>\n",
       "      <td>19995</td>\n",
       "      <td>Avatar</td>\n",
       "      <td>[{\"cast_id\": 242, \"character\": \"Jake Sully\", \"...</td>\n",
       "      <td>[{\"credit_id\": \"52fe48009251416c750aca23\", \"de...</td>\n",
       "      <td>83</td>\n",
       "      <td>146</td>\n",
       "      <td>1</td>\n",
       "    </tr>\n",
       "    <tr>\n",
       "      <th>1</th>\n",
       "      <td>285</td>\n",
       "      <td>Pirates of the Caribbean: At World's End</td>\n",
       "      <td>[{\"cast_id\": 4, \"character\": \"Captain Jack Spa...</td>\n",
       "      <td>[{\"credit_id\": \"52fe4232c3a36847f800b579\", \"de...</td>\n",
       "      <td>34</td>\n",
       "      <td>32</td>\n",
       "      <td>1</td>\n",
       "    </tr>\n",
       "    <tr>\n",
       "      <th>2</th>\n",
       "      <td>206647</td>\n",
       "      <td>Spectre</td>\n",
       "      <td>[{\"cast_id\": 1, \"character\": \"James Bond\", \"cr...</td>\n",
       "      <td>[{\"credit_id\": \"54805967c3a36829b5002c41\", \"de...</td>\n",
       "      <td>83</td>\n",
       "      <td>150</td>\n",
       "      <td>1</td>\n",
       "    </tr>\n",
       "    <tr>\n",
       "      <th>3</th>\n",
       "      <td>49026</td>\n",
       "      <td>The Dark Knight Rises</td>\n",
       "      <td>[{\"cast_id\": 2, \"character\": \"Bruce Wayne / Ba...</td>\n",
       "      <td>[{\"credit_id\": \"52fe4781c3a36847f81398c3\", \"de...</td>\n",
       "      <td>158</td>\n",
       "      <td>210</td>\n",
       "      <td>1</td>\n",
       "    </tr>\n",
       "    <tr>\n",
       "      <th>4</th>\n",
       "      <td>49529</td>\n",
       "      <td>John Carter</td>\n",
       "      <td>[{\"cast_id\": 5, \"character\": \"John Carter\", \"c...</td>\n",
       "      <td>[{\"credit_id\": \"52fe479ac3a36847f813eaa3\", \"de...</td>\n",
       "      <td>27</td>\n",
       "      <td>129</td>\n",
       "      <td>1</td>\n",
       "    </tr>\n",
       "  </tbody>\n",
       "</table>\n",
       "</div>"
      ],
      "text/plain": [
       "   movie_id                                     title  \\\n",
       "0     19995                                    Avatar   \n",
       "1       285  Pirates of the Caribbean: At World's End   \n",
       "2    206647                                   Spectre   \n",
       "3     49026                     The Dark Knight Rises   \n",
       "4     49529                               John Carter   \n",
       "\n",
       "                                                cast  \\\n",
       "0  [{\"cast_id\": 242, \"character\": \"Jake Sully\", \"...   \n",
       "1  [{\"cast_id\": 4, \"character\": \"Captain Jack Spa...   \n",
       "2  [{\"cast_id\": 1, \"character\": \"James Bond\", \"cr...   \n",
       "3  [{\"cast_id\": 2, \"character\": \"Bruce Wayne / Ba...   \n",
       "4  [{\"cast_id\": 5, \"character\": \"John Carter\", \"c...   \n",
       "\n",
       "                                                crew  cast_members  \\\n",
       "0  [{\"credit_id\": \"52fe48009251416c750aca23\", \"de...            83   \n",
       "1  [{\"credit_id\": \"52fe4232c3a36847f800b579\", \"de...            34   \n",
       "2  [{\"credit_id\": \"54805967c3a36829b5002c41\", \"de...            83   \n",
       "3  [{\"credit_id\": \"52fe4781c3a36847f81398c3\", \"de...           158   \n",
       "4  [{\"credit_id\": \"52fe479ac3a36847f813eaa3\", \"de...            27   \n",
       "\n",
       "   crew_members  dir_members  \n",
       "0           146            1  \n",
       "1            32            1  \n",
       "2           150            1  \n",
       "3           210            1  \n",
       "4           129            1  "
      ]
     },
     "execution_count": 40,
     "metadata": {},
     "output_type": "execute_result"
    }
   ],
   "source": [
    "#I use the dictionary created previously to add for each film in the table Credits the number of directors, \n",
    "#in the column dir_members\n",
    "credits['dir_members']= credits.apply(lambda row: dict_director[(row['movie_id'])], axis=1)\n",
    "credits.head()"
   ]
  },
  {
   "cell_type": "markdown",
   "metadata": {},
   "source": [
    "## QUESTION 9\n",
    "For each language, compute the number of movies where such language is spoken."
   ]
  },
  {
   "cell_type": "code",
   "execution_count": 41,
   "metadata": {},
   "outputs": [
    {
     "data": {
      "text/plain": [
       "{'af': 7,\n",
       " 'am': 1,\n",
       " 'ar': 67,\n",
       " 'bg': 3,\n",
       " 'bm': 1,\n",
       " 'bn': 1,\n",
       " 'bo': 4,\n",
       " 'br': 1,\n",
       " 'bs': 2,\n",
       " 'ca': 1,\n",
       " 'ce': 1,\n",
       " 'cn': 48,\n",
       " 'co': 1,\n",
       " 'cs': 38,\n",
       " 'cy': 2,\n",
       " 'da': 14,\n",
       " 'de': 262,\n",
       " 'dz': 1,\n",
       " 'el': 20,\n",
       " 'en': 4485,\n",
       " 'eo': 2,\n",
       " 'es': 351,\n",
       " 'et': 2,\n",
       " 'fa': 12,\n",
       " 'fi': 3,\n",
       " 'fr': 437,\n",
       " 'ga': 6,\n",
       " 'gd': 6,\n",
       " 'gl': 1,\n",
       " 'he': 33,\n",
       " 'hi': 48,\n",
       " 'hr': 4,\n",
       " 'hu': 42,\n",
       " 'hy': 4,\n",
       " 'id': 2,\n",
       " 'is': 5,\n",
       " 'it': 188,\n",
       " 'iu': 1,\n",
       " 'ja': 97,\n",
       " 'ka': 1,\n",
       " 'kk': 2,\n",
       " 'km': 2,\n",
       " 'ko': 31,\n",
       " 'ku': 1,\n",
       " 'kw': 1,\n",
       " 'ky': 1,\n",
       " 'la': 52,\n",
       " 'mi': 2,\n",
       " 'ml': 2,\n",
       " 'mn': 2,\n",
       " 'ne': 1,\n",
       " 'nl': 10,\n",
       " 'no': 13,\n",
       " 'nv': 1,\n",
       " 'ny': 1,\n",
       " 'pa': 4,\n",
       " 'pl': 53,\n",
       " 'ps': 2,\n",
       " 'pt': 68,\n",
       " 'ro': 13,\n",
       " 'ru': 185,\n",
       " 'sa': 1,\n",
       " 'sh': 4,\n",
       " 'si': 1,\n",
       " 'sk': 2,\n",
       " 'sl': 1,\n",
       " 'so': 3,\n",
       " 'sq': 4,\n",
       " 'sr': 6,\n",
       " 'st': 1,\n",
       " 'sv': 22,\n",
       " 'sw': 8,\n",
       " 'ta': 4,\n",
       " 'te': 1,\n",
       " 'th': 40,\n",
       " 'tl': 1,\n",
       " 'to': 1,\n",
       " 'tr': 18,\n",
       " 'uk': 9,\n",
       " 'ur': 15,\n",
       " 'vi': 17,\n",
       " 'wo': 1,\n",
       " 'xh': 4,\n",
       " 'xx': 2,\n",
       " 'yi': 8,\n",
       " 'zh': 107,\n",
       " 'zu': 4}"
      ]
     },
     "execution_count": 41,
     "metadata": {},
     "output_type": "execute_result"
    }
   ],
   "source": [
    "#dict_language is a dictionary wich contains all languages spoken in movies db, and for each language the number of \n",
    "#films\n",
    "dict_language = {}\n",
    "for i in range(0, len(movies)):\n",
    "    list = ast.literal_eval(movies['spoken_languages'][i])\n",
    "    x = 0\n",
    "    for x in range(0, len(list)):\n",
    "        key = list[x]['iso_639_1']\n",
    "        if key not in dict_language:\n",
    "            dict_language[key] = 1\n",
    "        else:\n",
    "            dict_language[key] += 1\n",
    "\n",
    "dict_language"
   ]
  },
  {
   "cell_type": "markdown",
   "metadata": {},
   "source": [
    "## QUESTION 10\n",
    "For each company and each decade, compute the overall revenue"
   ]
  },
  {
   "cell_type": "code",
   "execution_count": 42,
   "metadata": {
    "collapsed": true
   },
   "outputs": [],
   "source": [
    "# add field decade and calculate the field in the table Movies\n",
    "movies['decade'] = pd.to_datetime(movies['release_date'],format='%d/%m/%Y').dt.year // 10"
   ]
  },
  {
   "cell_type": "code",
   "execution_count": 43,
   "metadata": {
    "collapsed": true
   },
   "outputs": [],
   "source": [
    "#dict_company is a dictionary in which the key is the decade and the value is an another dictionary; the key is \n",
    "#company ID (name) and the value is the revenue associated to the company\n",
    "dict_company = {}\n",
    "for i in range(0, len(movies)):\n",
    "    list = ast.literal_eval(movies['production_companies'][i])\n",
    "    x = 0\n",
    "    for x in range(0, len(list)):\n",
    "        key = str(list[x]['id'])+\" \"+list[x]['name']\n",
    "        decade = movies['decade'][i]\n",
    "        #name = list[x]['name']\n",
    "        \n",
    "        if decade not in dict_company:\n",
    "            dict_company[decade] = {key : movies['revenue'][i]}\n",
    "        else:\n",
    "            if key not in dict_company[decade]:\n",
    "                dict_company[decade][key] = movies['revenue'][i]\n",
    "            else:\n",
    "                dict_company[decade][key] += movies['revenue'][i]"
   ]
  },
  {
   "cell_type": "code",
   "execution_count": 44,
   "metadata": {},
   "outputs": [
    {
     "data": {
      "text/plain": [
       "{'12372 Universum Film (UFA)': 650422,\n",
       " '4 Paramount Pictures': 650422,\n",
       " '4903 Nero Films': 0,\n",
       " '8411 Metro-Goldwyn-Mayer (MGM)': 26358000}"
      ]
     },
     "execution_count": 44,
     "metadata": {},
     "output_type": "execute_result"
    }
   ],
   "source": [
    "dict_company[192]"
   ]
  },
  {
   "cell_type": "markdown",
   "metadata": {},
   "source": [
    "## QUESTION 11\n",
    "For each decade, compute the company with maximum revenue"
   ]
  },
  {
   "cell_type": "code",
   "execution_count": 45,
   "metadata": {
    "collapsed": true
   },
   "outputs": [],
   "source": [
    "#dict_decade is a dictionary in which the key is the decade and the value is an another dictionary; the key is the\n",
    "#company id with the maximum revenue and the value is the maximum revenue of the company\n",
    "dict_decade = {}\n",
    "for decade in dict_company:\n",
    "    maxi = 0\n",
    "    id_max = \"\"\n",
    "    for chiave, valore in dict_company[decade].items():\n",
    "        if valore > maxi:\n",
    "            maxi = valore\n",
    "            id_max = chiave\n",
    "    \n",
    "    dict_decade[decade] = {id_max : maxi}"
   ]
  },
  {
   "cell_type": "code",
   "execution_count": 46,
   "metadata": {},
   "outputs": [
    {
     "data": {
      "text/plain": [
       "{191.0: {'1307 Triangle Film Corporation': 8394751},\n",
       " 192.0: {'8411 Metro-Goldwyn-Mayer (MGM)': 26358000},\n",
       " 193.0: {'1553 Selznick International Pictures': 400176459},\n",
       " 194.0: {'3166 Walt Disney Productions': 351747150},\n",
       " 195.0: {'8411 Metro-Goldwyn-Mayer (MGM)': 73770324},\n",
       " 196.0: {'7576 Eon Productions': 598134765},\n",
       " 197.0: {'60 United Artists': 1392271577},\n",
       " 198.0: {'4 Paramount Pictures': 4431144486},\n",
       " 199.0: {'4 Paramount Pictures': 8824732067},\n",
       " 200.0: {'6194 Warner Bros.': 22897419289},\n",
       " 201.0: {'33 Universal Pictures': 15521006459}}"
      ]
     },
     "execution_count": 46,
     "metadata": {},
     "output_type": "execute_result"
    }
   ],
   "source": [
    "dict_decade"
   ]
  },
  {
   "cell_type": "markdown",
   "metadata": {},
   "source": [
    "## QUESTION 12\n",
    "In each year, how many movies have revenue smaller than the budget?"
   ]
  },
  {
   "cell_type": "code",
   "execution_count": 47,
   "metadata": {
    "collapsed": true
   },
   "outputs": [],
   "source": [
    "movies_filtered = movies[['year', 'title', 'revenue', 'budget']]\n",
    "movies_grouped = movies_filtered.groupby(['year', 'title']).apply(lambda x: 1 \n",
    "                                                                  if float(x['revenue']) < float(x['budget']) else 0)\n",
    "movies_grouped_year = movies_grouped.groupby('year').sum()"
   ]
  },
  {
   "cell_type": "code",
   "execution_count": 48,
   "metadata": {},
   "outputs": [
    {
     "data": {
      "text/plain": [
       "year\n",
       "1916.0     0\n",
       "1925.0     0\n",
       "1927.0     1\n",
       "1929.0     0\n",
       "1930.0     0\n",
       "1932.0     0\n",
       "1933.0     0\n",
       "1934.0     0\n",
       "1935.0     0\n",
       "1936.0     0\n",
       "1937.0     0\n",
       "1938.0     0\n",
       "1939.0     0\n",
       "1940.0     0\n",
       "1941.0     0\n",
       "1942.0     0\n",
       "1944.0     0\n",
       "1945.0     0\n",
       "1946.0     0\n",
       "1947.0     1\n",
       "1948.0     1\n",
       "1949.0     0\n",
       "1950.0     0\n",
       "1951.0     0\n",
       "1952.0     0\n",
       "1953.0     0\n",
       "1954.0     1\n",
       "1955.0     0\n",
       "1956.0     0\n",
       "1957.0     0\n",
       "          ..\n",
       "1988.0     4\n",
       "1989.0     6\n",
       "1990.0     4\n",
       "1991.0    10\n",
       "1992.0     9\n",
       "1993.0    15\n",
       "1994.0    15\n",
       "1995.0    19\n",
       "1996.0    32\n",
       "1997.0    33\n",
       "1998.0    39\n",
       "1999.0    55\n",
       "2000.0    53\n",
       "2001.0    56\n",
       "2002.0    71\n",
       "2003.0    47\n",
       "2004.0    61\n",
       "2005.0    55\n",
       "2006.0    63\n",
       "2007.0    55\n",
       "2008.0    64\n",
       "2009.0    78\n",
       "2010.0    65\n",
       "2011.0    70\n",
       "2012.0    52\n",
       "2013.0    62\n",
       "2014.0    59\n",
       "2015.0    67\n",
       "2016.0    26\n",
       "2017.0     0\n",
       "Length: 90, dtype: int64"
      ]
     },
     "execution_count": 48,
     "metadata": {},
     "output_type": "execute_result"
    }
   ],
   "source": [
    "movies_grouped_year"
   ]
  },
  {
   "cell_type": "markdown",
   "metadata": {
    "collapsed": true
   },
   "source": [
    "# The following part of the exercise must be done only by groups of two or three people"
   ]
  },
  {
   "cell_type": "markdown",
   "metadata": {},
   "source": [
    "## QUESTION 1\n",
    "Distribute the revenue according to the order of appearance in a movie. Assume that the i-th actor contributes twice as much as the (i+1)-th actor to the revenue."
   ]
  },
  {
   "cell_type": "code",
   "execution_count": 49,
   "metadata": {
    "collapsed": true
   },
   "outputs": [],
   "source": [
    "#add revenue in credits table\n",
    "#to do this, I create a dictionary with key MovieID, and for value the revenue associated\n",
    "dict_revenue = {}\n",
    "for row in range(0, len(movies)):\n",
    "    dict_revenue[movies[\"id\"][row]] = movies[\"revenue\"][row]"
   ]
  },
  {
   "cell_type": "code",
   "execution_count": 50,
   "metadata": {
    "collapsed": true
   },
   "outputs": [],
   "source": [
    "#I use the dictionary to add in the table credits the column Revenue\n",
    "credits['revenue']= credits.apply(lambda row: dict_revenue[(row['movie_id'])], axis=1)"
   ]
  },
  {
   "cell_type": "code",
   "execution_count": 51,
   "metadata": {},
   "outputs": [
    {
     "name": "stderr",
     "output_type": "stream",
     "text": [
      "/Users/emanuelecarnati/anaconda3/lib/python3.6/site-packages/ipykernel_launcher.py:19: RuntimeWarning: invalid value encountered in true_divide\n",
      "/Users/emanuelecarnati/anaconda3/lib/python3.6/site-packages/ipykernel_launcher.py:19: RuntimeWarning: divide by zero encountered in true_divide\n"
     ]
    }
   ],
   "source": [
    "#dict_cast is a dictionary in which the key is the movie ID and the value is a list of dictionaries.\n",
    "#Each dictionary is filled with the values of the column 'cast' in the table Credits.\n",
    "#In this dictionary there are gender, id , name, order and revenue values of each member of the cast.\n",
    "\n",
    "dict_cast = {}\n",
    "for i in range(0, len(credits)):\n",
    "    key = credits['movie_id'][i]\n",
    "    dict_cast[key] = []\n",
    "    list = ast.literal_eval(credits['cast'][i])\n",
    "    \n",
    "    x = 0\n",
    "    num = 0.0\n",
    "    \n",
    "    for j in range(0, len(list)):\n",
    "        #number used to divide the total revenue to obtain the lower value.\n",
    "        num = 2**j+num\n",
    "    \n",
    "    #calculate the lower value of revenue for person\n",
    "    lower = credits['revenue'][i] / num\n",
    "    #calculate the maximum value of revenue for person\n",
    "    maximum = lower*(2**len(list))\n",
    "    \n",
    "    for x in range(0, len(list)):\n",
    "        id_cast = list[x]['id'] \n",
    "        if id_cast not in dict_cast[key]:\n",
    "            #recalculate the maximum value\n",
    "            maximum = maximum/2\n",
    "            dict_cast[key].append({'id':id_cast, 'name':list[x]['name'], 'gender':list[x]['gender'],\n",
    "                                   'order':list[x]['order'], 'revenue':maximum})"
   ]
  },
  {
   "cell_type": "code",
   "execution_count": 52,
   "metadata": {},
   "outputs": [
    {
     "data": {
      "text/html": [
       "<div>\n",
       "<style>\n",
       "    .dataframe thead tr:only-child th {\n",
       "        text-align: right;\n",
       "    }\n",
       "\n",
       "    .dataframe thead th {\n",
       "        text-align: left;\n",
       "    }\n",
       "\n",
       "    .dataframe tbody tr th {\n",
       "        vertical-align: top;\n",
       "    }\n",
       "</style>\n",
       "<table border=\"1\" class=\"dataframe\">\n",
       "  <thead>\n",
       "    <tr style=\"text-align: right;\">\n",
       "      <th></th>\n",
       "      <th>movie_id</th>\n",
       "      <th>title</th>\n",
       "      <th>cast</th>\n",
       "      <th>crew</th>\n",
       "      <th>cast_members</th>\n",
       "      <th>crew_members</th>\n",
       "      <th>dir_members</th>\n",
       "      <th>revenue</th>\n",
       "    </tr>\n",
       "  </thead>\n",
       "  <tbody>\n",
       "    <tr>\n",
       "      <th>621</th>\n",
       "      <td>300673</td>\n",
       "      <td>The Finest Hours</td>\n",
       "      <td>[{\"cast_id\": 0, \"character\": \"Bernie Webber\", ...</td>\n",
       "      <td>[{\"credit_id\": \"56e4d210c3a3685aa8004f7d\", \"de...</td>\n",
       "      <td>22</td>\n",
       "      <td>91</td>\n",
       "      <td>1</td>\n",
       "      <td>52099090</td>\n",
       "    </tr>\n",
       "  </tbody>\n",
       "</table>\n",
       "</div>"
      ],
      "text/plain": [
       "     movie_id             title  \\\n",
       "621    300673  The Finest Hours   \n",
       "\n",
       "                                                  cast  \\\n",
       "621  [{\"cast_id\": 0, \"character\": \"Bernie Webber\", ...   \n",
       "\n",
       "                                                  crew  cast_members  \\\n",
       "621  [{\"credit_id\": \"56e4d210c3a3685aa8004f7d\", \"de...            22   \n",
       "\n",
       "     crew_members  dir_members   revenue  \n",
       "621            91            1  52099090  "
      ]
     },
     "execution_count": 52,
     "metadata": {},
     "output_type": "execute_result"
    }
   ],
   "source": [
    "#check the values\n",
    "credits[credits['movie_id']==300673]"
   ]
  },
  {
   "cell_type": "code",
   "execution_count": 53,
   "metadata": {},
   "outputs": [
    {
     "data": {
      "text/plain": [
       "52099090.0"
      ]
     },
     "execution_count": 53,
     "metadata": {},
     "output_type": "execute_result"
    }
   ],
   "source": [
    "#check the values\n",
    "somma = 0.0\n",
    "for i in range(0, len(dict_cast[300673])):\n",
    "    somma = somma + dict_cast[300673][i][\"revenue\"]\n",
    "\n",
    "somma"
   ]
  },
  {
   "cell_type": "code",
   "execution_count": 54,
   "metadata": {},
   "outputs": [
    {
     "data": {
      "text/plain": [
       "[{'gender': 2,\n",
       "  'id': 62064,\n",
       "  'name': 'Chris Pine',\n",
       "  'order': 0,\n",
       "  'revenue': 26049551.210696984},\n",
       " {'gender': 2,\n",
       "  'id': 1893,\n",
       "  'name': 'Casey Affleck',\n",
       "  'order': 1,\n",
       "  'revenue': 13024775.605348492},\n",
       " {'gender': 2,\n",
       "  'id': 11107,\n",
       "  'name': 'Ben Foster',\n",
       "  'order': 2,\n",
       "  'revenue': 6512387.802674246},\n",
       " {'gender': 2,\n",
       "  'id': 8783,\n",
       "  'name': 'Eric Bana',\n",
       "  'order': 3,\n",
       "  'revenue': 3256193.901337123},\n",
       " {'gender': 1,\n",
       "  'id': 302165,\n",
       "  'name': 'Holliday Grainger',\n",
       "  'order': 4,\n",
       "  'revenue': 1628096.9506685615},\n",
       " {'gender': 2,\n",
       "  'id': 40543,\n",
       "  'name': 'John Ortiz',\n",
       "  'order': 5,\n",
       "  'revenue': 814048.47533428075},\n",
       " {'gender': 0,\n",
       "  'id': 59219,\n",
       "  'name': 'Kyle Gallner',\n",
       "  'order': 6,\n",
       "  'revenue': 407024.23766714038},\n",
       " {'gender': 2,\n",
       "  'id': 37154,\n",
       "  'name': 'John Magaro',\n",
       "  'order': 7,\n",
       "  'revenue': 203512.11883357019},\n",
       " {'gender': 2,\n",
       "  'id': 95047,\n",
       "  'name': 'Graham McTavish',\n",
       "  'order': 8,\n",
       "  'revenue': 101756.05941678509},\n",
       " {'gender': 2,\n",
       "  'id': 53259,\n",
       "  'name': 'Michael Raymond-James',\n",
       "  'order': 9,\n",
       "  'revenue': 50878.029708392547},\n",
       " {'gender': 0,\n",
       "  'id': 1078613,\n",
       "  'name': 'Beau Knapp',\n",
       "  'order': 10,\n",
       "  'revenue': 25439.014854196274},\n",
       " {'gender': 2,\n",
       "  'id': 40039,\n",
       "  'name': 'Josh Stewart',\n",
       "  'order': 11,\n",
       "  'revenue': 12719.507427098137},\n",
       " {'gender': 2,\n",
       "  'id': 21132,\n",
       "  'name': 'Abraham Benrubi',\n",
       "  'order': 12,\n",
       "  'revenue': 6359.7537135490684},\n",
       " {'gender': 2,\n",
       "  'id': 1251875,\n",
       "  'name': 'Keiynan Lonsdale',\n",
       "  'order': 13,\n",
       "  'revenue': 3179.8768567745342},\n",
       " {'gender': 1,\n",
       "  'id': 993774,\n",
       "  'name': 'Rachel Brosnahan',\n",
       "  'order': 14,\n",
       "  'revenue': 1589.9384283872671},\n",
       " {'gender': 0,\n",
       "  'id': 13138,\n",
       "  'name': 'Benjamin Koldyke',\n",
       "  'order': 15,\n",
       "  'revenue': 794.96921419363355},\n",
       " {'gender': 0,\n",
       "  'id': 1232599,\n",
       "  'name': 'Matthew Maher',\n",
       "  'order': 16,\n",
       "  'revenue': 397.48460709681677},\n",
       " {'gender': 0,\n",
       "  'id': 1750078,\n",
       "  'name': 'Jesse Gabbard',\n",
       "  'order': 17,\n",
       "  'revenue': 198.74230354840839},\n",
       " {'gender': 2,\n",
       "  'id': 1168858,\n",
       "  'name': 'Alexander Cook',\n",
       "  'order': 18,\n",
       "  'revenue': 99.371151774204193},\n",
       " {'gender': 0,\n",
       "  'id': 1750079,\n",
       "  'name': 'Danny Connelly',\n",
       "  'order': 19,\n",
       "  'revenue': 49.685575887102097},\n",
       " {'gender': 0,\n",
       "  'id': 1732326,\n",
       "  'name': 'Angela Hope Smith',\n",
       "  'order': 20,\n",
       "  'revenue': 24.842787943551048},\n",
       " {'gender': 0,\n",
       "  'id': 928638,\n",
       "  'name': 'John Franchi',\n",
       "  'order': 21,\n",
       "  'revenue': 12.421393971775524}]"
      ]
     },
     "execution_count": 54,
     "metadata": {},
     "output_type": "execute_result"
    }
   ],
   "source": [
    "dict_cast[300673]"
   ]
  },
  {
   "cell_type": "markdown",
   "metadata": {},
   "source": [
    "The dictionary contains the revenue distributed according to the order of appereance in the movie. For viewing reasons, I decided to diplay only the cast of the film I checked the value before."
   ]
  },
  {
   "cell_type": "markdown",
   "metadata": {},
   "source": [
    "## QUESTION 2\n",
    "For each actor find the total revenue attributed to him/her."
   ]
  },
  {
   "cell_type": "code",
   "execution_count": 55,
   "metadata": {
    "collapsed": true
   },
   "outputs": [],
   "source": [
    "#dict_actors is a dictionary in which the key is the ID actor, the name and the gender, the value is the \n",
    "#revenue associated to him/her\n",
    "#I take the values from the dictionary dict_cast, created previously.\n",
    "dict_actors = {}\n",
    "for i in range(0, len(credits)):\n",
    "    movie_id = credits['movie_id'][i]\n",
    "    \n",
    "    for x in range(0, len(dict_cast[movie_id])):\n",
    "        id_actor = (dict_cast[movie_id][x]['id'], dict_cast[movie_id][x]['name'], dict_cast[movie_id][x]['gender'])\n",
    "        if id_actor not in dict_actors:\n",
    "            dict_actors[id_actor]=dict_cast[movie_id][x]['revenue']\n",
    "        else:\n",
    "            dict_actors[id_actor] += dict_cast[movie_id][x]['revenue']"
   ]
  },
  {
   "cell_type": "code",
   "execution_count": 56,
   "metadata": {},
   "outputs": [
    {
     "name": "stdout",
     "output_type": "stream",
     "text": [
      "(65731, 'Sam Worthington', 2) 1788954719.95\n",
      "(8691, 'Zoe Saldana', 1) 1065218780.09\n",
      "(10205, 'Sigourney Weaver', 1) 695238575.62\n",
      "(32747, 'Stephen Lang', 2) 183014005.154\n",
      "(17647, 'Michelle Rodriguez', 1) 293154457.823\n",
      "(1771, 'Giovanni Ribisi', 2) 165222991.088\n"
     ]
    }
   ],
   "source": [
    "count = 0\n",
    "for key, value in dict_actors.items():\n",
    "    count = count + 1\n",
    "    print ( key, value )\n",
    "    if count == 6:\n",
    "        break"
   ]
  },
  {
   "cell_type": "markdown",
   "metadata": {},
   "source": [
    "The dictionary contains the total revenue distributed to actor"
   ]
  },
  {
   "cell_type": "markdown",
   "metadata": {},
   "source": [
    "## QUESTION 3\n",
    "Find the actor that is responsible for the most overall revenue."
   ]
  },
  {
   "cell_type": "code",
   "execution_count": 57,
   "metadata": {
    "collapsed": true
   },
   "outputs": [],
   "source": [
    "#sort the previously created dictionary\n",
    "dict_sorted = sorted(dict_actors.items(), key=lambda kv: kv[1], reverse=True)"
   ]
  },
  {
   "cell_type": "code",
   "execution_count": 58,
   "metadata": {},
   "outputs": [
    {
     "name": "stdout",
     "output_type": "stream",
     "text": [
      "(500, 'Tom Cruise', 2) 3976119762.06\n",
      "(31, 'Tom Hanks', 2) 3800124342.96\n",
      "(3223, 'Robert Downey Jr.', 2) 3631739495.78\n",
      "(85, 'Johnny Depp', 2) 3511521291.69\n",
      "(2888, 'Will Smith', 2) 3320088979.61\n",
      "(7399, 'Ben Stiller', 2) 2833072401.82\n"
     ]
    }
   ],
   "source": [
    "count = 0\n",
    "for key, value in sorted(dict_actors.items(), key=lambda kv: kv[1], reverse=True):\n",
    "    count = count + 1\n",
    "    print ( key, value )\n",
    "    if count == 6:\n",
    "        break"
   ]
  },
  {
   "cell_type": "markdown",
   "metadata": {},
   "source": [
    "Tom Cruise is the actor responsible for the most overall revenue"
   ]
  },
  {
   "cell_type": "markdown",
   "metadata": {},
   "source": [
    "# The following part of the exercise must be done only by groups of three people"
   ]
  },
  {
   "cell_type": "markdown",
   "metadata": {},
   "source": [
    "## QUESTION 1\n",
    "For each movie, compute the ratio between males and females in the cast"
   ]
  },
  {
   "cell_type": "code",
   "execution_count": 59,
   "metadata": {
    "collapsed": true
   },
   "outputs": [],
   "source": [
    "#dict_gender is a dictionary in which the key is the movieID, the value is an another dictionary.\n",
    "#In this dictionary are stored the number of females, males and the ratio male/female for each film.\n",
    "#The number of females and males are calculated from the column cast of the table Credits.\n",
    "\n",
    "dict_gender = {}\n",
    "for i in range(0, len(credits)):\n",
    "    key = credits['movie_id'][i]\n",
    "    list = ast.literal_eval(credits['cast'][i])\n",
    "    \n",
    "    x = 0\n",
    "    male = 0\n",
    "    female = 0\n",
    "    \n",
    "    for x in range(0, len(list)):\n",
    "        gender = list[x]['gender'] \n",
    "        if gender == 2:\n",
    "            male = male + 1\n",
    "        else:\n",
    "            female = female + 1\n",
    "    if male != 0 and female != 0:\n",
    "        dict_gender[key] = {'male':male, 'female':female, 'ratio':male/female}\n",
    "    else:\n",
    "        dict_gender[key]= {'male':male, 'female':female, 'ratio':0}"
   ]
  },
  {
   "cell_type": "code",
   "execution_count": 60,
   "metadata": {},
   "outputs": [
    {
     "name": "stdout",
     "output_type": "stream",
     "text": [
      "19995 {'male': 20, 'female': 63, 'ratio': 0.31746031746031744}\n",
      "285 {'male': 25, 'female': 9, 'ratio': 2.7777777777777777}\n",
      "206647 {'male': 55, 'female': 28, 'ratio': 1.9642857142857142}\n",
      "49026 {'male': 73, 'female': 85, 'ratio': 0.8588235294117647}\n",
      "49529 {'male': 19, 'female': 8, 'ratio': 2.375}\n",
      "559 {'male': 33, 'female': 110, 'ratio': 0.3}\n"
     ]
    }
   ],
   "source": [
    "count = 0\n",
    "for key, value in dict_gender.items():\n",
    "    count = count + 1\n",
    "    print ( key, value )\n",
    "    if count == 6:\n",
    "        break"
   ]
  },
  {
   "cell_type": "markdown",
   "metadata": {},
   "source": [
    "## QUESTION 2\n",
    "For each movie, compute the ratio between the attributed revenue of males and females in the cast"
   ]
  },
  {
   "cell_type": "code",
   "execution_count": 61,
   "metadata": {
    "collapsed": true
   },
   "outputs": [],
   "source": [
    "#dict_ratio_revenue is a dictionary in which the key is the movieID and the value is an another dictionary.\n",
    "#In this dictionary are stored, for each film, the attributed revenue for females and males in the cast and the \n",
    "#ratio between male and female revenue\n",
    "\n",
    "dict_ratio_revenue = {}\n",
    "for i in range(0, len(credits)):\n",
    "    key = credits['movie_id'][i]\n",
    "    dict_ratio_revenue[key] = {}\n",
    "    \n",
    "    revenue_males = 0.0\n",
    "    revenue_females = 0.0\n",
    "    \n",
    "    for x in range(0, len(dict_cast[key])):\n",
    "        if dict_cast[key][x]['gender'] == 2:\n",
    "            revenue_males = revenue_males + dict_cast[key][x]['revenue']\n",
    "        else:\n",
    "            revenue_females = revenue_females + dict_cast[key][x]['revenue']\n",
    "    \n",
    "    #test if revenue_males and revenue_females is 0\n",
    "    if revenue_males != 0 and revenue_females != 0:\n",
    "        dict_ratio_revenue[key] = {'revenue_females':revenue_females, 'revenue_males':revenue_males, \n",
    "                                   'ratio':revenue_males/revenue_females}\n",
    "    else:\n",
    "        dict_ratio_revenue[key] = {'revenue_females':revenue_females, 'revenue_males':revenue_males, 'ratio':0}"
   ]
  },
  {
   "cell_type": "code",
   "execution_count": 62,
   "metadata": {},
   "outputs": [
    {
     "name": "stdout",
     "output_type": "stream",
     "text": [
      "19995 {'revenue_females': 1143537105.685409, 'revenue_males': 1644427981.3145907, 'ratio': 1.438018909171259}\n",
      "285 {'revenue_females': 120597576.69791564, 'revenue_males': 840402423.30208433, 'ratio': 6.9686509987444012}\n",
      "206647 {'revenue_females': 144897258.67188865, 'revenue_males': 735777350.3281114, 'ratio': 5.077924572708695}\n",
      "49026 {'revenue_females': 85850359.50454126, 'revenue_males': 999088739.4954586, 'ratio': 11.637560346414267}\n",
      "49529 {'revenue_females': 106702832.39204983, 'revenue_males': 177436267.60795018, 'ratio': 1.6629011960620692}\n",
      "559 {'revenue_females': 244612172.25424603, 'revenue_males': 646259453.7457538, 'ratio': 2.641975858315186}\n"
     ]
    }
   ],
   "source": [
    "count = 0\n",
    "for key, value in dict_ratio_revenue.items():\n",
    "    count = count + 1\n",
    "    print ( key, value )\n",
    "    if count == 6:\n",
    "        break"
   ]
  },
  {
   "cell_type": "markdown",
   "metadata": {},
   "source": [
    "## QUESTION 3\n",
    "For each director, compute the average (among all movies he/she has directed) of the ratio found in the previous point."
   ]
  },
  {
   "cell_type": "code",
   "execution_count": 63,
   "metadata": {
    "collapsed": true
   },
   "outputs": [],
   "source": [
    "#dict_directors_film is a dictionary in which the key is the Director ID and Name; the value is a list of movies\n",
    "#in which the director has worked\n",
    "\n",
    "dict_directors_film = {}\n",
    "for i in range(0, len(credits)):\n",
    "    movie_id = credits['movie_id'][i]\n",
    "    \n",
    "    list = ast.literal_eval(credits['crew'][i])\n",
    "    \n",
    "    x = 0\n",
    "    \n",
    "    for x in range(0, len(list)):\n",
    "        work = list[x]['job']\n",
    "        if work == \"Director\":\n",
    "            key = (list[x]['id'], list[x]['name'])\n",
    "            if key not in dict_directors_film.keys():\n",
    "                dict_directors_film[key] = []\n",
    "            \n",
    "            dict_directors_film[key].append(movie_id)"
   ]
  },
  {
   "cell_type": "code",
   "execution_count": 64,
   "metadata": {
    "collapsed": true
   },
   "outputs": [],
   "source": [
    "#dict_directors_film_ratio is a dictionary, in which the key is the tuple (ID, name) of the director and the value is \n",
    "#an another dictionary, which contains the number of films, the sum of the ratio calculated previously and the\n",
    "#average of this ratio.\n",
    "#To calculate this attributes, I used the dict_directors_film and dict_ratio_revenue dictionaries.\n",
    "\n",
    "dict_directors_film_ratio = {}\n",
    "\n",
    "for key, value in dict_directors_film.items():\n",
    "    dict_directors_film_ratio[key] = {}\n",
    "    \n",
    "    ratio_sum = 0.0\n",
    "    counter = 0\n",
    "    \n",
    "    for i in range(len(value)):\n",
    "        counter = counter+1\n",
    "        ratio_sum = ratio_sum + dict_ratio_revenue[value[i]]['ratio']\n",
    "\n",
    "    dict_directors_film_ratio[key] = {'n.film':counter, 'sum of ratio':ratio_sum, 'ratio_avg' : ratio_sum/counter}"
   ]
  },
  {
   "cell_type": "code",
   "execution_count": 65,
   "metadata": {},
   "outputs": [
    {
     "name": "stdout",
     "output_type": "stream",
     "text": [
      "(2710, 'James Cameron') {'n.film': 7, 'sum of ratio': 17.002272253834715, 'ratio_avg': 2.4288960362621022}\n",
      "(1704, 'Gore Verbinski') {'n.film': 7, 'sum of ratio': 50.883922273035282, 'ratio_avg': 7.2691317532907549}\n",
      "(39, 'Sam Mendes') {'n.film': 7, 'sum of ratio': 4246.0962043478139, 'ratio_avg': 606.58517204968769}\n",
      "(525, 'Christopher Nolan') {'n.film': 8, 'sum of ratio': 79.975445665134146, 'ratio_avg': 9.9969307081417682}\n",
      "(7, 'Andrew Stanton') {'n.film': 4, 'sum of ratio': 7.9752744772738886, 'ratio_avg': 1.9938186193184722}\n",
      "(7623, 'Sam Raimi') {'n.film': 11, 'sum of ratio': 14.739191517048031, 'ratio_avg': 1.339926501549821}\n"
     ]
    }
   ],
   "source": [
    "count = 0\n",
    "for key, value in dict_directors_film_ratio.items():\n",
    "    count = count + 1\n",
    "    print ( key, value )\n",
    "    if count == 6:\n",
    "        break"
   ]
  },
  {
   "cell_type": "markdown",
   "metadata": {},
   "source": [
    "## QUESTION 4\n",
    "Find the director that has the highest average computed in the previous point."
   ]
  },
  {
   "cell_type": "code",
   "execution_count": 66,
   "metadata": {
    "collapsed": true
   },
   "outputs": [],
   "source": [
    "sorted_dictionary = sorted(dict_directors_film_ratio.items(), key=lambda kv: kv[1][\"ratio_avg\"], reverse=True)"
   ]
  },
  {
   "cell_type": "code",
   "execution_count": 67,
   "metadata": {},
   "outputs": [
    {
     "data": {
      "text/plain": [
       "((578, 'Ridley Scott'),\n",
       " {'n.film': 16,\n",
       "  'ratio_avg': 536870919.86986852,\n",
       "  'sum of ratio': 8589934717.9178963})"
      ]
     },
     "execution_count": 67,
     "metadata": {},
     "output_type": "execute_result"
    }
   ],
   "source": [
    "sorted_dictionary[0]"
   ]
  },
  {
   "cell_type": "markdown",
   "metadata": {
    "collapsed": true
   },
   "source": [
    "The Director that has the highest average computed in the previous point is Ridley Scott, with a value of\n",
    "ratio 536870919,86."
   ]
  }
 ],
 "metadata": {
  "kernelspec": {
   "display_name": "Python 3",
   "language": "python",
   "name": "python3"
  },
  "language_info": {
   "codemirror_mode": {
    "name": "ipython",
    "version": 3
   },
   "file_extension": ".py",
   "mimetype": "text/x-python",
   "name": "python",
   "nbconvert_exporter": "python",
   "pygments_lexer": "ipython3",
   "version": "3.6.3"
  }
 },
 "nbformat": 4,
 "nbformat_minor": 2
}
